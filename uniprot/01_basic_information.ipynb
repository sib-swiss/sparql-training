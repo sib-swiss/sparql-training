{
 "cells": [
  {
   "cell_type": "markdown",
   "metadata": {
    "hideCode": true,
    "hidePrompt": true,
    "toc": true
   },
   "source": [
    "<h1>Table of Contents<span class=\"tocSkip\"></span></h1>\n",
    "<div class=\"toc\"><ul class=\"toc-item\"><li><span><a href=\"#Basic-information\" data-toc-modified-id=\"Basic-information-1\">Basic information</a></span></li><li><span><a href=\"#Required-Python-libraries\" data-toc-modified-id=\"Required-Python-libraries-2\">Required Python libraries</a></span><ul class=\"toc-item\"><li><span><a href=\"#Entry-identifier\" data-toc-modified-id=\"Entry-identifier-2.1\">Entry identifier</a></span><ul class=\"toc-item\"><li><span><a href=\"#Extracting-a-primaryAccession-from-a-IRI\" data-toc-modified-id=\"Extracting-a-primaryAccession-from-a-IRI-2.1.1\">Extracting a primaryAccession from a IRI</a></span></li></ul></li><li><span><a href=\"#UniProt-entry-name-(mnemonic)\" data-toc-modified-id=\"UniProt-entry-name-(mnemonic)-2.2\">UniProt entry name (mnemonic)</a></span><ul class=\"toc-item\"><li><span><a href=\"#Old-mnemonics\" data-toc-modified-id=\"Old-mnemonics-2.2.1\">Old mnemonics</a></span></li></ul></li><li><span><a href=\"#Entry-status\" data-toc-modified-id=\"Entry-status-2.3\">Entry status</a></span></li><li><span><a href=\"#Dates-and-versions\" data-toc-modified-id=\"Dates-and-versions-2.4\">Dates and versions</a></span></li></ul></li></ul></div>"
   ]
  },
  {
   "cell_type": "markdown",
   "metadata": {
    "hideCode": true,
    "hidePrompt": true
   },
   "source": [
    "# Basic information\n",
    "\n",
    "This notebook aims to show you basic informations of UniProtKB entries:  \n",
    "- identifier  \n",
    "- date  \n",
    "- names "
   ]
  },
  {
   "cell_type": "markdown",
   "metadata": {
    "hideCode": true,
    "hidePrompt": true
   },
   "source": [
    "# Required Python libraries\n",
    "\n",
    "If you are not familiar with **RDFlib** and **SPARQLWrapper** libraries, please read `00_introduction.ipynb` first. "
   ]
  },
  {
   "cell_type": "code",
   "execution_count": 1,
   "metadata": {
    "hideCode": true,
    "hidePrompt": true
   },
   "outputs": [],
   "source": [
    "from rdflib import Graph\n",
    "from SPARQLWrapper import SPARQLWrapper, JSON"
   ]
  },
  {
   "cell_type": "markdown",
   "metadata": {
    "hideCode": true,
    "hidePrompt": true
   },
   "source": [
    "## Entry identifier\n",
    "\n",
    "Each UniProt entry is identified by a [primary accession](https://www.uniprot.org/help/accession_numbers).  \n",
    "This is the best way to access an entry.  \n",
    "In the RDF format the primary accession is part of the IRI identifying an entry.  "
   ]
  },
  {
   "cell_type": "code",
   "execution_count": 2,
   "metadata": {
    "hideCode": true,
    "hidePrompt": true
   },
   "outputs": [],
   "source": [
    "entry=Graph().parse(format='ttl',\n",
    "                     data=\"\"\"\n",
    "base <http://purl.uniprot.org/uniprot/>  \n",
    "prefix up: <http://purl.uniprot.org/core/>\n",
    "prefix rdf: <http://www.w3.org/1999/02/22-rdf-syntax-ns#> \n",
    "prefix isoform:<http://purl.uniprot.org/isoforms/>\n",
    "<O22340> rdf:type up:Protein ;\n",
    "         up:reviewed true ;\n",
    "         up:created \"2001-10-24\"^^<xsd:date> ;\n",
    "         up:modified \"2015-04-01\"^^<xsd:date> ;\n",
    "         up:version 86 ;\n",
    "         up:mnemonic \"TPSDA_ABIGR\" ;\n",
    "         up:oldMnemonic \"TPSD3_ABIGR\" ,\n",
    "                        \"TSD3_ABIGR\" ;\n",
    "         up:replaces <Q94FV9> ;\n",
    "         up:sequence isoform:O22340-1 .\n",
    "isoform:O22340-1 rdf:type up:Simple_Sequence ;\n",
    "                 up:modified \"1998-01-01\"^^<xsd:date> ;\n",
    "                 up:version 1 .\"\"\")"
   ]
  },
  {
   "cell_type": "code",
   "execution_count": 11,
   "metadata": {},
   "outputs": [
    {
     "name": "stdout",
     "output_type": "stream",
     "text": [
      "UniProt entry URI = http://purl.uniprot.org/uniprot/O22340\n"
     ]
    }
   ],
   "source": [
    "qres=entry.query(\"\"\"\n",
    "PREFIX up: <http://purl.uniprot.org/core/> \n",
    "PREFIX uniprotkb: <http://purl.uniprot.org/uniprot/> \n",
    "SELECT ?protein\n",
    "WHERE {\n",
    "  ?protein a up:Protein .\n",
    "}\"\"\")\n",
    "\n",
    "for row in qres:\n",
    "    print(\"UniProt entry URI = %s\" % row)"
   ]
  },
  {
   "cell_type": "markdown",
   "metadata": {
    "hideCode": true,
    "hidePrompt": true
   },
   "source": [
    "### Extracting a primaryAccession from a IRI\n",
    "\n",
    "This is easy enough with some string manipulation.  \n",
    "While UniProt primary accession are unique within UniProtKB they may be reused by accident or itentionally by other data sources. If we provided them as strings (not URI) and if you used them in a query that way, you might accidentaly retrieve completly wrong records.  \n"
   ]
  },
  {
   "cell_type": "code",
   "execution_count": 3,
   "metadata": {
    "hideCode": true,
    "hidePrompt": true
   },
   "outputs": [
    {
     "name": "stdout",
     "output_type": "stream",
     "text": [
      "'O22340' is the PrimaryAccession of http://purl.uniprot.org/uniprot/O22340\n"
     ]
    }
   ],
   "source": [
    "qres=entry.query(\"\"\"\n",
    "PREFIX up: <http://purl.uniprot.org/core/> \n",
    "PREFIX uniprotkb: <http://purl.uniprot.org/uniprot/> \n",
    "SELECT ?primaryAccession\n",
    "       ?protein\n",
    "WHERE {\n",
    "  ?protein a up:Protein .\n",
    "  BIND(substr(str(?protein), strlen(str(uniprotkb:))+1) AS ?primaryAccession)\n",
    "}\"\"\")\n",
    "\n",
    "for row in qres:\n",
    "    print(\"'%s' is the PrimaryAccession of %s\" % row)"
   ]
  },
  {
   "cell_type": "markdown",
   "metadata": {
    "hideCode": true,
    "hidePrompt": true
   },
   "source": [
    "## UniProt entry name (mnemonic)\n",
    "\n",
    "The UniProtKB/Swiss-Prot **entry name** consists of up to 11 uppercase alphanumeric characters with a naming convention that can be symbolized as **X_Y**, where:  \n",
    "\n",
    "- **X** is a mnemonic protein identification code of at most 5 alphanumeric characters  \n",
    "- The **'_'** sign serves as a separator\n",
    "- **Y** is a mnemonic species identification code of at most 5 alphanumeric characters\n",
    "\n",
    "The mnemonic code **X** is an abbreviation of the protein/gene name, which does not necessarily correspond to the recommended protein name or to the gene name.  \n",
    "\n",
    "See more details on [Entry Name](https://www.uniprot.org/help/entry_name) UniProt documentation \n",
    "\n",
    "The RDF format stores the **entry name** in the property `mnemonic` and, for convenience reasons, lists also obsolete entry names with `oldMnemonic` properties."
   ]
  },
  {
   "cell_type": "code",
   "execution_count": 4,
   "metadata": {
    "hideCode": true,
    "hidePrompt": true
   },
   "outputs": [
    {
     "name": "stdout",
     "output_type": "stream",
     "text": [
      "The entry name of http://purl.uniprot.org/uniprot/O22340 is TPSDA_ABIGR\n"
     ]
    }
   ],
   "source": [
    "qres=entry.query(\"\"\"\n",
    "PREFIX up: <http://purl.uniprot.org/core/> \n",
    "PREFIX uniprotkb: <http://purl.uniprot.org/uniprot/> \n",
    "SELECT \n",
    "  ?protein ?mnemonic\n",
    "WHERE {\n",
    "  ?protein a up:Protein ;\n",
    "      up:mnemonic ?mnemonic.\n",
    "}\"\"\")\n",
    "\n",
    "for row in qres:\n",
    "    print(\"The entry name of %s is %s\" % row)"
   ]
  },
  {
   "cell_type": "markdown",
   "metadata": {
    "hideCode": true,
    "hidePrompt": true
   },
   "source": [
    "### Old mnemonics"
   ]
  },
  {
   "cell_type": "code",
   "execution_count": 5,
   "metadata": {
    "hideCode": true,
    "hidePrompt": true
   },
   "outputs": [
    {
     "name": "stdout",
     "output_type": "stream",
     "text": [
      "http://purl.uniprot.org/uniprot/O22340 used to be known as TPSD3_ABIGR and TSD3_ABIGR\n"
     ]
    }
   ],
   "source": [
    "qres=entry.query(\"\"\"\n",
    "PREFIX up: <http://purl.uniprot.org/core/> \n",
    "PREFIX uniprotkb: <http://purl.uniprot.org/uniprot/> \n",
    "SELECT \n",
    "  ?protein (GROUP_CONCAT(?oldMnemonic; separator=\" and \") AS ?oldMnemonics)\n",
    "WHERE {\n",
    "  ?protein a up:Protein ;\n",
    "      up:oldMnemonic ?oldMnemonic.\n",
    "} GROUP BY ?protein\n",
    "\"\"\")\n",
    "\n",
    "for row in qres:\n",
    "    print(\"%s used to be known as %s\" % row)"
   ]
  },
  {
   "cell_type": "markdown",
   "metadata": {
    "hideCode": true,
    "hidePrompt": true
   },
   "source": [
    "## Entry status \n",
    "\n",
    "UniProtKB has two sections:  \n",
    "- UniProtKB/Swiss-Prot: entries that have been manually annotated and reviewed by UniProtKB biocurators \n",
    "- UniProtKB/TrEMBL: entries that have been annotated using annotation pipelines \n",
    "\n",
    "The RDF format stores the **entry status** in the property `reviewed`."
   ]
  },
  {
   "cell_type": "code",
   "execution_count": 6,
   "metadata": {
    "code_folding": [],
    "hideCode": true,
    "hidePrompt": true
   },
   "outputs": [
    {
     "name": "stdout",
     "output_type": "stream",
     "text": [
      "http://purl.uniprot.org/uniprot/O22340 (TPSDA_ABIGR) is a reviewed (Swiss-Prot) entry? true\n"
     ]
    }
   ],
   "source": [
    "sp_entry=Graph().parse(format='ttl',\n",
    "                     data=\"\"\"\n",
    "base <http://purl.uniprot.org/uniprot/>  \n",
    "prefix up: <http://purl.uniprot.org/core/>\n",
    "prefix rdf: <http://www.w3.org/1999/02/22-rdf-syntax-ns#> \n",
    "prefix isoform:<http://purl.uniprot.org/isoforms/>\n",
    "<O22340> rdf:type up:Protein ;\n",
    "         up:reviewed true ;\n",
    "         up:created \"2001-10-24\"^^<xsd:date> ;\n",
    "         up:modified \"2015-04-01\"^^<xsd:date> ;\n",
    "         up:version 86 ;\n",
    "         up:mnemonic \"TPSDA_ABIGR\" .\n",
    "\"\"\")\n",
    "\n",
    "qres=sp_entry.query(\"\"\"\n",
    "PREFIX up: <http://purl.uniprot.org/core/>\n",
    "SELECT ?protein\n",
    "       ?entryName \n",
    "       ?reviewed\n",
    "WHERE {\n",
    "  ?protein a up:Protein . \n",
    "  ?protein up:mnemonic ?entryName . \n",
    "  ?protein up:reviewed ?reviewed . \n",
    "}\"\"\" )\n",
    "\n",
    "for row in qres:\n",
    "    print(\"%s (%s) is a reviewed (Swiss-Prot) entry? %s\" % row)"
   ]
  },
  {
   "cell_type": "code",
   "execution_count": 7,
   "metadata": {
    "hideCode": true,
    "hidePrompt": true
   },
   "outputs": [
    {
     "name": "stdout",
     "output_type": "stream",
     "text": [
      "http://purl.uniprot.org/uniprot/A0A024R563 (A0A024R563_HUMAN) is a reviewed (Swiss-Prot) entry? false\n"
     ]
    }
   ],
   "source": [
    "tr_entry=Graph().parse(format='ttl',\n",
    "                         data=\"\"\"base <http://purl.uniprot.org/uniprot/>  \n",
    "prefix up: <http://purl.uniprot.org/core/> \n",
    "prefix rdf: <http://www.w3.org/1999/02/22-rdf-syntax-ns#>  \n",
    "prefix xsd: <http://www.w3.org/2001/XMLSchema#> \n",
    "\n",
    "<A0A024R563> rdf:type up:Protein ;\n",
    "             up:reviewed false ;\n",
    "             up:created \"2014-07-09\"^^xsd:date ;\n",
    "             up:modified \"2020-10-07\"^^xsd:date ;\n",
    "             up:version 30 ;\n",
    "             up:mnemonic \"A0A024R563_HUMAN\" .\"\"\"\n",
    ")\n",
    "\n",
    "qres=tr_entry.query(\"\"\"\n",
    "PREFIX up: <http://purl.uniprot.org/core/>\n",
    "SELECT ?protein\n",
    "       ?entryName \n",
    "       ?reviewed\n",
    "WHERE {\n",
    "  ?protein a up:Protein . \n",
    "  ?protein up:mnemonic ?entryName . \n",
    "  ?protein up:reviewed ?reviewed . \n",
    "}\"\"\" )\n",
    "\n",
    "for row in qres:\n",
    "    print(\"%s (%s) is a reviewed (Swiss-Prot) entry? %s\" % row)"
   ]
  },
  {
   "cell_type": "code",
   "execution_count": 10,
   "metadata": {},
   "outputs": [
    {
     "name": "stdout",
     "output_type": "stream",
     "text": [
      "http://purl.uniprot.org/uniprot/A0A024R563 (A0A024R563_HUMAN) is a reviewed (Swiss-Prot) entry? false\n"
     ]
    }
   ],
   "source": [
    "tr_entry=Graph().parse(format='ttl',\n",
    "                     data=\"\"\"base <http://purl.uniprot.org/uniprot/>  \n",
    "prefix up: <http://purl.uniprot.org/core/>\n",
    "prefix rdf: <http://www.w3.org/1999/02/22-rdf-syntax-ns#> \n",
    "prefix xsd: <http://www.w3.org/2001/XMLSchema#> \n",
    "\n",
    "<A0A024R563> rdf:type up:Protein ;\n",
    "             up:reviewed false ;\n",
    "             up:created \"2014-07-09\"^^xsd:date ;\n",
    "             up:modified \"2020-10-07\"^^xsd:date ;\n",
    "             up:version 30 ;\n",
    "             up:mnemonic \"A0A024R563_HUMAN\" .\"\"\"\n",
    ")\n",
    "\n",
    "qres=tr_entry.query(\"\"\"\n",
    "PREFIX up: <http://purl.uniprot.org/core/>\n",
    "SELECT ?protein\n",
    "       ?entryName \n",
    "       ?reviewed\n",
    "WHERE {\n",
    "  ?protein a up:Protein . \n",
    "  ?protein up:mnemonic ?entryName . \n",
    "  ?protein up:reviewed ?reviewed . \n",
    "}\"\"\" )\n",
    "\n",
    "for row in qres:\n",
    "    print(\"%s (%s) is a reviewed (Swiss-Prot) entry? %s\" % row)"
   ]
  },
  {
   "cell_type": "markdown",
   "metadata": {
    "hideCode": true,
    "hidePrompt": true
   },
   "source": [
    "## Dates and versions\n",
    "\n",
    "We stores the date when an entry was integrated into UniProtKB in the `created` property and the last modification date of the entry and its current version in the `modified` and `version` properties of the entry. The last modification date of the sequence and its current version are displayed in the `modified` and `version` properties of the `sequence` element/subject.We make use of the international standard date [notation](http://www.w3.org/QA/Tips/iso-date)"
   ]
  },
  {
   "cell_type": "code",
   "execution_count": 9,
   "metadata": {
    "hideCode": true,
    "hideOutput": true,
    "hidePrompt": true
   },
   "outputs": [
    {
     "name": "stdout",
     "output_type": "stream",
     "text": [
      "http://purl.uniprot.org/uniprot/O22340 was created on 2001-10-24 and modified on 2015-04-01. It is at version 86\n"
     ]
    }
   ],
   "source": [
    "entry=Graph().parse(format='ttl',\n",
    "                     data=\"\"\"\n",
    "base <http://purl.uniprot.org/uniprot/>  \n",
    "prefix up: <http://purl.uniprot.org/core/>\n",
    "prefix rdf: <http://www.w3.org/1999/02/22-rdf-syntax-ns#> \n",
    "prefix isoform:<http://purl.uniprot.org/isoforms/>\n",
    "<O22340> rdf:type up:Protein ;\n",
    "         up:reviewed true ;\n",
    "         up:created \"2001-10-24\"^^<xsd:date> ;\n",
    "         up:modified \"2015-04-01\"^^<xsd:date> ;\n",
    "         up:version 86 ;\n",
    "         up:mnemonic \"TPSDA_ABIGR\" ;\n",
    "         up:oldMnemonic \"TPSD3_ABIGR\" ,\n",
    "                        \"TSD3_ABIGR\" ;\n",
    "         up:replaces <Q94FV9> ;\n",
    "         up:sequence isoform:O22340-1 .\n",
    "isoform:O22340-1 rdf:type up:Simple_Sequence ;\n",
    "                 up:modified \"1998-01-01\"^^<xsd:date> ;\n",
    "                 up:version 1 .\"\"\")\n",
    "\n",
    "qres=entry.query(\"\"\"prefix up: <http://purl.uniprot.org/core/>\n",
    "SELECT\n",
    "    ?protein \n",
    "    ?created\n",
    "    ?modified\n",
    "    ?version\n",
    "WHERE {\\\n",
    "  ?protein a up:Protein ;\n",
    "           up:created ?created ;\n",
    "           up:modified ?modified ;\n",
    "           up:version ?version .\n",
    "}\"\"\")\n",
    "\n",
    "for row in qres:\n",
    "    print(\"%s was created on %s and modified on %s. It is at version %s\" % row)"
   ]
  },
  {
   "cell_type": "code",
   "execution_count": null,
   "metadata": {
    "hideCode": true,
    "hidePrompt": true
   },
   "outputs": [],
   "source": []
  },
  {
   "cell_type": "code",
   "execution_count": null,
   "metadata": {
    "hideCode": true,
    "hidePrompt": true
   },
   "outputs": [],
   "source": []
  },
  {
   "cell_type": "code",
   "execution_count": null,
   "metadata": {
    "hideCode": true,
    "hidePrompt": true
   },
   "outputs": [],
   "source": []
  }
 ],
 "metadata": {
  "hide_code_all_hidden": true,
  "hide_input": false,
  "kernelspec": {
   "display_name": "Python 3 (system-wide)",
   "language": "python",
   "name": "python3"
  },
  "language_info": {
   "codemirror_mode": {
    "name": "ipython",
    "version": 3
   },
   "file_extension": ".py",
   "mimetype": "text/x-python",
   "name": "python",
   "nbconvert_exporter": "python",
   "pygments_lexer": "ipython3",
   "version": "3.8.5"
  },
  "toc": {
   "base_numbering": 1,
   "nav_menu": {},
   "number_sections": false,
   "sideBar": true,
   "skip_h1_title": false,
   "title_cell": "Table of Contents",
   "title_sidebar": "Contents",
   "toc_cell": true,
   "toc_position": {},
   "toc_section_display": true,
   "toc_window_display": false
  }
 },
 "nbformat": 4,
 "nbformat_minor": 4
}
