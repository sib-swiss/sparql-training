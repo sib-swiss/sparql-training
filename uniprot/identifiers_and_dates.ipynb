{
 "cells": [
  {
   "cell_type": "markdown",
   "metadata": {},
   "source": [
    "# Required Python library\n",
    "\n",
    "First we import rdflib which is a well known python library that gives RDF and its query language support to Python2 and 3\n"
   ]
  },
  {
   "cell_type": "code",
   "execution_count": 1,
   "metadata": {},
   "outputs": [],
   "source": [
    "import sys\n",
    "from rdflib import *\n",
    "\n",
    "from SPARQLWrapper import SPARQLWrapper, JSON"
   ]
  },
  {
   "cell_type": "markdown",
   "metadata": {},
   "source": [
    "# Entry identifiers and dates\n",
    "\n",
    "The UniProt entry has a [primary accession](https://www.uniprot.org/help/accession_numbers) this is the best way to access the entry. In the RDF format the primary accession is part of the IRI identifying the entry."
   ]
  },
  {
   "cell_type": "code",
   "execution_count": 2,
   "metadata": {},
   "outputs": [],
   "source": [
    "entry=Graph().parse(format='ttl',\n",
    "                     data=\"\"\"\n",
    "base <http://purl.uniprot.org/uniprot/>  \n",
    "prefix up: <http://purl.uniprot.org/core/>\n",
    "prefix rdf: <http://www.w3.org/1999/02/22-rdf-syntax-ns#> \n",
    "prefix isoform:<http://purl.uniprot.org/isoforms/>\n",
    "<O22340>\n",
    "  rdf:type up:Protein ;\n",
    "  up:reviewed true ;\n",
    "  up:created \"2001-10-24\"^^<xsd:date> ;\n",
    "  up:modified \"2015-04-01\"^^<xsd:date> ;\n",
    "  up:version 86 ;\n",
    "  up:mnemonic \"TPSDA_ABIGR\" ;\n",
    "  up:oldMnemonic\n",
    "    \"TPSD3_ABIGR\" ,\n",
    "    \"TSD3_ABIGR\" ;\n",
    "  up:replaces <Q94FV9> ;\n",
    "  up:sequence isoform:O22340-1 .\n",
    "isoform:O22340-1\n",
    "  rdf:type up:Simple_Sequence ;\n",
    "  up:modified \"1998-01-01\"^^<xsd:date> ;\n",
    "  up:version 1 .\"\"\")\n"
   ]
  },
  {
   "cell_type": "markdown",
   "metadata": {},
   "source": [
    "### Extracting a primaryAccession from a IRI\n",
    "\n",
    "This is easy enough with some string manipulation. While UniProt primary accession are unique within UniProtKB they may be reused by accident or itentionally by other datasources. If we provided them as strings and you used them in a query that way you might accidentaly retrieve completly wrong records."
   ]
  },
  {
   "cell_type": "code",
   "execution_count": 17,
   "metadata": {},
   "outputs": [
    {
     "name": "stdout",
     "output_type": "stream",
     "text": [
      "O22340 is the PrimaryAccession\n"
     ]
    }
   ],
   "source": [
    "qres=entry.query(\"\"\"\n",
    "PREFIX up: <http://purl.uniprot.org/core/> \n",
    "PREFIX uniprotkb: <http://purl.uniprot.org/uniprot/> \n",
    "SELECT \n",
    "    ?primaryAccession\n",
    "WHERE {\n",
    "  ?protein a up:Protein .\n",
    "  BIND(substr(str(?protein), strlen(str(uniprotkb:))+1) AS ?primaryAccession)\n",
    "}\"\"\")\n",
    "\n",
    "for row in qres:\n",
    "    print(\"%s is the PrimaryAccession\" % row)"
   ]
  },
  {
   "cell_type": "markdown",
   "metadata": {},
   "source": [
    "### [Entry Name](https://www.uniprot.org/help/entry_name)\n",
    "\n",
    "The RDF format stores the name in the property `mnemonic` and, for convenience reasons, lists also obsolete entry names with `oldMnemonic` properties."
   ]
  },
  {
   "cell_type": "code",
   "execution_count": 18,
   "metadata": {},
   "outputs": [
    {
     "name": "stdout",
     "output_type": "stream",
     "text": [
      "http://purl.uniprot.org/uniprot/O22340 is also known as TPSDA_ABIGR\n"
     ]
    }
   ],
   "source": [
    "qres=entry.query(\"\"\"\n",
    "PREFIX up: <http://purl.uniprot.org/core/> \n",
    "PREFIX uniprotkb: <http://purl.uniprot.org/uniprot/> \n",
    "SELECT \n",
    "  ?protein ?mnemonic\n",
    "WHERE {\n",
    "  ?protein a up:Protein ;\n",
    "      up:mnemonic ?mnemonic.\n",
    "}\"\"\")\n",
    "\n",
    "for row in qres:\n",
    "    print(\"%s is also known as %s\" % row)"
   ]
  },
  {
   "cell_type": "code",
   "execution_count": 21,
   "metadata": {},
   "outputs": [
    {
     "name": "stdout",
     "output_type": "stream",
     "text": [
      "http://purl.uniprot.org/uniprot/O22340 used to be known as TPSD3_ABIGR and TSD3_ABIGR\n"
     ]
    }
   ],
   "source": [
    "qres=entry.query(\"\"\"\n",
    "PREFIX up: <http://purl.uniprot.org/core/> \n",
    "PREFIX uniprotkb: <http://purl.uniprot.org/uniprot/> \n",
    "SELECT \n",
    "  ?protein (GROUP_CONCAT(?oldMnemonic; separator=\" and \") AS ?oldMnemonics)\n",
    "WHERE {\n",
    "  ?protein a up:Protein ;\n",
    "      up:oldMnemonic ?oldMnemonic.\n",
    "} GROUP BY ?protein\n",
    "\"\"\")\n",
    "\n",
    "for row in qres:\n",
    "    print(\"%s used to be known as %s\" % row)"
   ]
  },
  {
   "cell_type": "markdown",
   "metadata": {},
   "source": [
    "### Swiss-Prot (reviewed) or TrEMBL (unreviewed)"
   ]
  },
  {
   "cell_type": "code",
   "execution_count": 22,
   "metadata": {},
   "outputs": [
    {
     "name": "stdout",
     "output_type": "stream",
     "text": [
      "http://purl.uniprot.org/uniprot/O22340 is an Swiss-Prot entry true\n"
     ]
    }
   ],
   "source": [
    "qres=entry.query('prefix up: <http://purl.uniprot.org/core/> \\\n",
    "SELECT \\\n",
    "    ?protein \\\n",
    "    ?isEntryAnSwissProtEntry \\\n",
    "WHERE {\\\n",
    "  ?protein a up:Protein . \\\n",
    "  ?protein up:reviewed ?isEntryAnSwissProtEntry . \\\n",
    "}')\n",
    "\n",
    "for row in qres:\n",
    "    print(\"%s is an Swiss-Prot entry %s\" % row)"
   ]
  },
  {
   "cell_type": "markdown",
   "metadata": {},
   "source": [
    "In the UniProt RDF entries that are part of Swiss-Prot have a property reviewed set to true, while the entries in TrEMBL have the reviewed property set to false."
   ]
  },
  {
   "cell_type": "markdown",
   "metadata": {},
   "source": [
    "### Dates and versions\n",
    "\n",
    "We stores the date when an entry was integrated into UniProtKB in the `created` property and the last modification date of the entry and its current version in the `modified` and `version` properties of the entry. The last modification date of the sequence and its current version are displayed in the `modified` and `version` properties of the `sequence` element/subject.We make use of the international standard date [notation](http://www.w3.org/QA/Tips/iso-date)"
   ]
  },
  {
   "cell_type": "code",
   "execution_count": 24,
   "metadata": {},
   "outputs": [
    {
     "name": "stdout",
     "output_type": "stream",
     "text": [
      "http://purl.uniprot.org/uniprot/O22340 was modified on 2015-04-01 and is at version 86\n"
     ]
    }
   ],
   "source": [
    "qres=entry.query(\"\"\"prefix up: <http://purl.uniprot.org/core/>\n",
    "SELECT\n",
    "    ?protein \n",
    "    ?modified\n",
    "    ?version\n",
    "WHERE {\\\n",
    "  ?protein a up:Protein ;\n",
    "    up:modified ?modified ;\n",
    "    up:version ?version .\n",
    "}\"\"\")\n",
    "\n",
    "for row in qres:\n",
    "    print(\"%s was modified on %s and is at version %s\" % row)"
   ]
  },
  {
   "cell_type": "code",
   "execution_count": null,
   "metadata": {},
   "outputs": [],
   "source": []
  }
 ],
 "metadata": {
  "kernelspec": {
   "display_name": "Python 3",
   "language": "python",
   "name": "python3"
  },
  "language_info": {
   "codemirror_mode": {
    "name": "ipython",
    "version": 3
   },
   "file_extension": ".py",
   "mimetype": "text/x-python",
   "name": "python",
   "nbconvert_exporter": "python",
   "pygments_lexer": "ipython3",
   "version": "3.9.2"
  }
 },
 "nbformat": 4,
 "nbformat_minor": 4
}
