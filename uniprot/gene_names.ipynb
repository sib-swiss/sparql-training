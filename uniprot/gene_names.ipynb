{
 "cells": [
  {
   "cell_type": "markdown",
   "metadata": {},
   "source": [
    "# Required Python library\n",
    "\n",
    "First we import rdflib which is a well known python library that gives RDF and its query language support to Python2 and 3\n"
   ]
  },
  {
   "cell_type": "code",
   "execution_count": 2,
   "metadata": {},
   "outputs": [],
   "source": [
    "import sys\n",
    "from rdflib import *\n",
    "\n",
    "from SPARQLWrapper import SPARQLWrapper, JSON"
   ]
  },
  {
   "cell_type": "markdown",
   "metadata": {},
   "source": [
    "# Gene Names\n",
    "\n",
    "The name(s) of the gene(s) that encode the protein by a separate encodedBy properties.\n",
    "\n",
    "There are four categories of gene names. In the primary gene name is represented with a skos:prefLabel property and the synonyms with skos:altLabel properties. OLN and ORF names are listed with locusName and orfName properties, respectively.\n",
    "\n",
    "The resources representing a gene are members of the `up:Gene` class."
   ]
  },
  {
   "cell_type": "code",
   "execution_count": 16,
   "metadata": {},
   "outputs": [],
   "source": [
    "entry=Graph().parse(format='ttl',\n",
    "                     data=\"\"\"\n",
    "base <http://purl.uniprot.org/uniprot/>  \n",
    "prefix up: <http://purl.uniprot.org/core/>\n",
    "prefix rdf: <http://www.w3.org/1999/02/22-rdf-syntax-ns#> \n",
    "prefix isoform:<http://purl.uniprot.org/isoforms/>\n",
    "prefix skos: <http://www.w3.org/2004/02/skos/core#>\n",
    "\n",
    "<Q0JNS6>\n",
    "  a up:Protein ;\n",
    "  up:encodedBy\n",
    "    <Q0JNS6#51304A4E53360019> ,\n",
    "    <Q0JNS6#51304A4E5336001A> ,\n",
    "    <Q0JNS6#51304A4E5336001B> .\n",
    "\n",
    "<Q0JNS6#51304A4E53360019>\n",
    "  rdf:type up:Gene ;\n",
    "  skos:prefLabel \"CAM1-1\" ;\n",
    "  skos:altLabel \"CAM1\" ;\n",
    "  up:locusName \"Os03g0319300\" ,\n",
    "    \"LOC_Os03g20370\" ;\n",
    "  up:orfName \"OsJ_010214\" .\n",
    "\n",
    "<Q0JNS6#51304A4E5336001A>\n",
    "  rdf:type up:Gene ;\n",
    "  skos:prefLabel \"CAM1-2\" ;\n",
    "  skos:altLabel \"CAM\" ;\n",
    "  up:locusName \"Os07g0687200\" ,\n",
    "    \"LOC_Os07g48780\" ;\n",
    "  up:orfName \"OJ1150_E04.120-1\" ,\n",
    "    \"OJ1200_C08.124-1\" ,\n",
    "    \"OsJ_024630\" .\n",
    "\n",
    "<Q0JNS6#51304A4E5336001B>\n",
    "  rdf:type up:Gene ;\n",
    "  skos:prefLabel \"CAM1-3\" ;\n",
    "  up:locusName \"Os01g0267900\" ,\n",
    "    \"LOC_Os01g16240\" ;\n",
    "  up:orfName \"OsJ_001186\" ,\n",
    "    \"P0011D01.22\" .\"\"\")\n"
   ]
  },
  {
   "cell_type": "markdown",
   "metadata": {},
   "source": [
    "### Selecting a recommended gene name"
   ]
  },
  {
   "cell_type": "code",
   "execution_count": 17,
   "metadata": {},
   "outputs": [
    {
     "name": "stdout",
     "output_type": "stream",
     "text": [
      "http://purl.uniprot.org/uniprot/Q0JNS6#51304A4E5336001A is called CAM1-2\n",
      "http://purl.uniprot.org/uniprot/Q0JNS6#51304A4E53360019 is called CAM1-1\n",
      "http://purl.uniprot.org/uniprot/Q0JNS6#51304A4E5336001B is called CAM1-3\n"
     ]
    }
   ],
   "source": [
    "qres=entry.query(\"\"\"\n",
    "PREFIX up: <http://purl.uniprot.org/core/> \n",
    "PREFIX uniprotkb: <http://purl.uniprot.org/uniprot/>\n",
    "PREFIX skos: <http://www.w3.org/2004/02/skos/core#>\n",
    "\n",
    "SELECT \n",
    "    ?gene \n",
    "    ?recommendedGeneName\n",
    "WHERE {\n",
    "    ?protein a up:Protein ;\n",
    "      up:encodedBy ?gene .\n",
    "    ?gene skos:prefLabel ?recommendedGeneName .\n",
    "}\"\"\")\n",
    "\n",
    "for row in qres:\n",
    "    print(\"%s is called %s\" % row)"
   ]
  },
  {
   "cell_type": "markdown",
   "metadata": {},
   "source": [
    "### Alternative gene names"
   ]
  },
  {
   "cell_type": "code",
   "execution_count": 18,
   "metadata": {},
   "outputs": [
    {
     "name": "stdout",
     "output_type": "stream",
     "text": [
      "http://purl.uniprot.org/uniprot/Q0JNS6#51304A4E5336001A is also known as CAM\n",
      "http://purl.uniprot.org/uniprot/Q0JNS6#51304A4E53360019 is also known as CAM1\n"
     ]
    }
   ],
   "source": [
    "qres=entry.query(\"\"\"\n",
    "PREFIX up: <http://purl.uniprot.org/core/> \n",
    "PREFIX uniprotkb: <http://purl.uniprot.org/uniprot/>\n",
    "PREFIX skos: <http://www.w3.org/2004/02/skos/core#>\n",
    "\n",
    "SELECT \n",
    "    ?gene \n",
    "    ?altGeneName\n",
    "WHERE {\n",
    "    ?protein a up:Protein ;\n",
    "      up:encodedBy ?gene .\n",
    "    ?gene skos:altLabel ?altGeneName .\n",
    "}\"\"\")\n",
    "\n",
    "for row in qres:\n",
    "    print(\"%s is also known as %s\" % row)"
   ]
  },
  {
   "cell_type": "markdown",
   "metadata": {},
   "source": [
    "### Ordered locus names\n",
    "\n",
    "OLN and ORF names are listed with locusName and orfName properties."
   ]
  },
  {
   "cell_type": "code",
   "execution_count": 19,
   "metadata": {},
   "outputs": [
    {
     "name": "stdout",
     "output_type": "stream",
     "text": [
      "http://purl.uniprot.org/uniprot/Q0JNS6#51304A4E5336001A is also known as Os07g0687200\n",
      "http://purl.uniprot.org/uniprot/Q0JNS6#51304A4E5336001A is also known as LOC_Os07g48780\n",
      "http://purl.uniprot.org/uniprot/Q0JNS6#51304A4E53360019 is also known as Os03g0319300\n",
      "http://purl.uniprot.org/uniprot/Q0JNS6#51304A4E53360019 is also known as LOC_Os03g20370\n",
      "http://purl.uniprot.org/uniprot/Q0JNS6#51304A4E5336001B is also known as Os01g0267900\n",
      "http://purl.uniprot.org/uniprot/Q0JNS6#51304A4E5336001B is also known as LOC_Os01g16240\n"
     ]
    }
   ],
   "source": [
    "qres=entry.query(\"\"\"\n",
    "PREFIX up: <http://purl.uniprot.org/core/> \n",
    "PREFIX uniprotkb: <http://purl.uniprot.org/uniprot/>\n",
    "PREFIX skos: <http://www.w3.org/2004/02/skos/core#>\n",
    "\n",
    "SELECT \n",
    "    ?gene \n",
    "    ?oln\n",
    "WHERE {\n",
    "    ?protein a up:Protein ;\n",
    "      up:encodedBy ?gene .\n",
    "    ?gene up:locusName ?oln .\n",
    "}\"\"\")\n",
    "\n",
    "for row in qres:\n",
    "    print(\"%s has a ordered locus name %s\" % row)"
   ]
  },
  {
   "cell_type": "code",
   "execution_count": null,
   "metadata": {},
   "outputs": [],
   "source": [
    "qres=entry.query(\"\"\"\n",
    "PREFIX up: <http://purl.uniprot.org/core/> \n",
    "PREFIX uniprotkb: <http://purl.uniprot.org/uniprot/>\n",
    "PREFIX skos: <http://www.w3.org/2004/02/skos/core#>\n",
    "\n",
    "SELECT \n",
    "    ?gene \n",
    "    ?oln\n",
    "WHERE {\n",
    "    ?protein a up:Protein ;\n",
    "      up:encodedBy ?gene .\n",
    "    ?gene up:orfName ?oln .\n",
    "}\"\"\")\n",
    "\n",
    "for row in qres:\n",
    "    print(\"%s has a open reading frame name %s\" % row)"
   ]
  }
 ],
 "metadata": {
  "kernelspec": {
   "display_name": "Python 3",
   "language": "python",
   "name": "python3"
  },
  "language_info": {
   "codemirror_mode": {
    "name": "ipython",
    "version": 3
   },
   "file_extension": ".py",
   "mimetype": "text/x-python",
   "name": "python",
   "nbconvert_exporter": "python",
   "pygments_lexer": "ipython3",
   "version": "3.9.2"
  }
 },
 "nbformat": 4,
 "nbformat_minor": 4
}
