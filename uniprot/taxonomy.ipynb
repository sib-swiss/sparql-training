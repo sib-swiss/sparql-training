{
 "cells": [
  {
   "cell_type": "markdown",
   "metadata": {},
   "source": [
    "# Required Python library\n",
    "\n",
    "First we import rdflib which is a well known python library that gives RDF and its query language support to Python2 and 3\n"
   ]
  },
  {
   "cell_type": "code",
   "execution_count": 3,
   "metadata": {},
   "outputs": [],
   "source": [
    "import sys\n",
    "from rdflib import *\n",
    "\n",
    "from SPARQLWrapper import SPARQLWrapper, JSON"
   ]
  },
  {
   "cell_type": "markdown",
   "metadata": {},
   "source": [
    "# Taxonomy\n",
    "\n",
    "## Organism identifier\n",
    "\n",
    "The organism which is the source of a protein sequence is identified by a unique identifier from the NCBI taxonomy database. This is stored in the organism property of the uniprot entry. This is the only taxonomy information that is stored in the RDF format of a UniProtKB entry. However, the full NCBI taxonomy is modelled and available as well."
   ]
  },
  {
   "cell_type": "code",
   "execution_count": 4,
   "metadata": {},
   "outputs": [],
   "source": [
    "entry=Graph().parse(format='ttl',\n",
    "                     data=\"\"\"\n",
    "base <http://purl.uniprot.org/uniprot/>  \n",
    "prefix up: <http://purl.uniprot.org/core/>\n",
    "prefix rdf: <http://www.w3.org/1999/02/22-rdf-syntax-ns#> \n",
    "prefix isoform:<http://purl.uniprot.org/isoforms/>\n",
    "prefix skos: <http://www.w3.org/2004/02/skos/core#>\n",
    "prefix taxon: <http://purl.uniprot.org/taxonomy/>\n",
    "\n",
    "<P05067>\n",
    "  a up:Protein ;\n",
    "  up:organism taxon:9606 .\"\"\")"
   ]
  },
  {
   "cell_type": "markdown",
   "metadata": {},
   "source": [
    "### Selecting the organism of a protein"
   ]
  },
  {
   "cell_type": "code",
   "execution_count": 5,
   "metadata": {},
   "outputs": [
    {
     "name": "stdout",
     "output_type": "stream",
     "text": [
      "http://purl.uniprot.org/uniprot/P05067 is from http://purl.uniprot.org/taxonomy/9606\n"
     ]
    }
   ],
   "source": [
    "qres=entry.query(\"\"\"\n",
    "PREFIX up: <http://purl.uniprot.org/core/> \n",
    "PREFIX uniprotkb: <http://purl.uniprot.org/uniprot/>\n",
    "PREFIX skos: <http://www.w3.org/2004/02/skos/core#>\n",
    "\n",
    "SELECT \n",
    "    ?protein \n",
    "    ?taxon\n",
    "WHERE {\n",
    "    ?protein a up:Protein ;\n",
    "      up:organism ?taxon .\n",
    "}\"\"\")\n",
    "\n",
    "for row in qres:\n",
    "    print(\"%s is from %s\" % row)"
   ]
  },
  {
   "cell_type": "markdown",
   "metadata": {},
   "source": [
    "### Taxonomy"
   ]
  },
  {
   "cell_type": "code",
   "execution_count": 14,
   "metadata": {},
   "outputs": [],
   "source": [
    "taxon=Graph().parse(format='ttl',\n",
    "                 data=\"\"\"\n",
    "base <http://purl.uniprot.org/taxonomy/> \n",
    "prefix up: <http://purl.uniprot.org/core/> \n",
    "prefix foaf: <http://xmlns.com/foaf/0.1/> \n",
    "prefix owl: <http://www.w3.org/2002/07/owl#> \n",
    "prefix rdf: <http://www.w3.org/1999/02/22-rdf-syntax-ns#> \n",
    "prefix rdfs: <http://www.w3.org/2000/01/rdf-schema#> \n",
    "prefix skos: <http://www.w3.org/2004/02/skos/core#> \n",
    "prefix xsd: <http://www.w3.org/2001/XMLSchema#> \n",
    "\n",
    "<9606> a up:Taxon ;\n",
    "  up:rank up:Species ;\n",
    "  up:mnemonic \"HUMAN\" ;\n",
    "  up:scientificName \"Homo sapiens\" ;\n",
    "  up:commonName \"Human\" ;\n",
    "  up:otherName \"Home sapiens\" ,\n",
    "    \"Homo sapiens Linnaeus, 1758\" ,\n",
    "    \"man\" ;\n",
    "  rdfs:seeAlso <http://animaldiversity.org/site/accounts/information/Homo_sapiens.html> ,\n",
    "    <http://archaeologyinfo.com/homo-sapiens/> ,\n",
    "    <http://www.ensembl.org/Homo_sapiens/Info/Index> ,\n",
    "    <https://www.sciencedaily.com/releases/2005/02/050223122209.htm> ;\n",
    "  rdfs:subClassOf <9605> ;\n",
    "  skos:narrowerTransitive <63221> ,\n",
    "    <741158> ;\n",
    "  up:partOfLineage false .\n",
    "\n",
    "<9605> a up:Taxon ;\n",
    "  up:rank up:Genus ;\n",
    "  up:scientificName \"Homo\" ;\n",
    "  up:otherName \"Homo Linnaeus, 1758\" ,\n",
    "    \"humans\" ;\n",
    "  rdfs:subClassOf <207598> ;\n",
    "  skos:narrowerTransitive <9606> ,\n",
    "    <1425170> ,\n",
    "    <2665952> ;\n",
    "  up:partOfLineage true .\n",
    "\"\"\")"
   ]
  },
  {
   "cell_type": "markdown",
   "metadata": {},
   "source": [
    "### rank and scientificName\n",
    "\n",
    "The rank and scientificName are by far the most queried properties of a taxon."
   ]
  },
  {
   "cell_type": "code",
   "execution_count": 19,
   "metadata": {},
   "outputs": [
    {
     "name": "stdout",
     "output_type": "stream",
     "text": [
      "http://purl.uniprot.org/taxonomy/9606 rank:Homo sapiens name:http://purl.uniprot.org/core/Species\n",
      "http://purl.uniprot.org/taxonomy/9605 rank:Homo name:http://purl.uniprot.org/core/Genus\n"
     ]
    }
   ],
   "source": [
    "qres=taxon.query(\"\"\"\n",
    "PREFIX up: <http://purl.uniprot.org/core/> \n",
    "\n",
    "SELECT \n",
    "    ?taxon \n",
    "    ?scientificName\n",
    "    ?rank\n",
    "WHERE {\n",
    "    ?taxon a up:Taxon ;\n",
    "      up:rank ?rank ;\n",
    "      up:scientificName ?scientificName .\n",
    "}\"\"\")\n",
    "\n",
    "for row in qres:\n",
    "    print(\"%s rank:%s name:%s\" % row)"
   ]
  },
  {
   "cell_type": "markdown",
   "metadata": {},
   "source": [
    "### Hierarchy\n",
    "\n",
    "Querying the taxonomic hierarchy is straightforward using the `rdfs:subClassOf` relationship. For our sparql endpoint we materialize this relation ship so no SPARQL path queries are required. In other endpoints you might need to use `rdfs:subClassOf+` to query by higher levels of taxonomy."
   ]
  },
  {
   "cell_type": "code",
   "execution_count": 23,
   "metadata": {},
   "outputs": [
    {
     "name": "stdout",
     "output_type": "stream",
     "text": [
      "http://purl.uniprot.org/taxonomy/9606 is part of the genus http://purl.uniprot.org/taxonomy/9605\n"
     ]
    }
   ],
   "source": [
    "qres=taxon.query(\"\"\"\n",
    "PREFIX up: <http://purl.uniprot.org/core/> \n",
    "PREFIX uniprotkb: <http://purl.uniprot.org/uniprot/>\n",
    "PREFIX skos: <http://www.w3.org/2004/02/skos/core#>\n",
    "\n",
    "SELECT \n",
    "    ?species ?genus \n",
    "WHERE {\n",
    "    ?species a up:Taxon ;\n",
    "        up:rank up:Species ;\n",
    "        rdfs:subClassOf ?genus .\n",
    "    ?genus a up:Taxon ;\n",
    "        up:rank up:Genus .\n",
    "}\"\"\")\n",
    "\n",
    "for row in qres:\n",
    "    print(\"%s is part of the genus %s\" % row)"
   ]
  },
  {
   "cell_type": "markdown",
   "metadata": {},
   "source": [
    "### Host organisms\n",
    "\n",
    "Sometimes an organism is known to be hosted inside an other (e.g. parasite, symbiont, infection). \n",
    "In which case we use an `host` property, to link from the organism to it's host."
   ]
  },
  {
   "cell_type": "code",
   "execution_count": 24,
   "metadata": {},
   "outputs": [],
   "source": [
    " taxon2=Graph().parse(format='ttl',\n",
    "                 data=\"\"\"\n",
    "base <http://purl.uniprot.org/taxonomy/> \n",
    "prefix up: <http://purl.uniprot.org/core/> \n",
    "\n",
    "<1241371> a up:Taxon ;\n",
    "  up:mnemonic \"ABHV\" ;\n",
    "  up:host <6451> .\n",
    "\"\"\")"
   ]
  },
  {
   "cell_type": "code",
   "execution_count": 25,
   "metadata": {},
   "outputs": [
    {
     "name": "stdout",
     "output_type": "stream",
     "text": [
      "http://purl.uniprot.org/taxonomy/1241371 is infects http://purl.uniprot.org/taxonomy/6451\n"
     ]
    }
   ],
   "source": [
    "qres=taxon2.query(\"\"\"\n",
    "PREFIX up: <http://purl.uniprot.org/core/> \n",
    "PREFIX uniprotkb: <http://purl.uniprot.org/uniprot/>\n",
    "PREFIX skos: <http://www.w3.org/2004/02/skos/core#>\n",
    "\n",
    "SELECT \n",
    "    ?virus ?host \n",
    "WHERE {\n",
    "    ?virus up:host ?host .\n",
    "}\"\"\")\n",
    "\n",
    "for row in qres:\n",
    "    print(\"%s infects %s\" % row)"
   ]
  },
  {
   "cell_type": "code",
   "execution_count": null,
   "metadata": {},
   "outputs": [],
   "source": []
  }
 ],
 "metadata": {
  "kernelspec": {
   "display_name": "Python 3",
   "language": "python",
   "name": "python3"
  },
  "language_info": {
   "codemirror_mode": {
    "name": "ipython",
    "version": 3
   },
   "file_extension": ".py",
   "mimetype": "text/x-python",
   "name": "python",
   "nbconvert_exporter": "python",
   "pygments_lexer": "ipython3",
   "version": "3.9.2"
  }
 },
 "nbformat": 4,
 "nbformat_minor": 4
}
