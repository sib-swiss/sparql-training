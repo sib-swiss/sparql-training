{
 "cells": [
  {
   "cell_type": "markdown",
   "metadata": {},
   "source": [
    "# Required Python library\n",
    "\n",
    "First we import rdflib which is a well known python library that gives RDF and its query language support to Python2 and 3\n"
   ]
  },
  {
   "cell_type": "code",
   "execution_count": 1,
   "metadata": {},
   "outputs": [],
   "source": [
    "import sys\n",
    "from rdflib import *\n",
    "\n",
    "from SPARQLWrapper import SPARQLWrapper, JSON"
   ]
  },
  {
   "cell_type": "markdown",
   "metadata": {},
   "source": [
    "# Protein Names\n",
    "\n",
    "Protein names are modeled as name resources in the RDF format. There are 3 main types of protein names:\n",
    "\n",
    " 1. The name recommended by the UniProt consortium: linked to a recommendedName element/property in the RDF format.\n",
    " 2. Names provided by the submitter of the underlying nucleotide sequence (in UniProtKB/TrEMBL only):\n",
    "    Shown in submittedName elements/properties in the RDF format.\n",
    " 3. Alternative names:\n",
    "    Shown in alternativeName elements/properties in the RDF format.\n",
    "\n",
    "These types are further categorized into:\n",
    "\n",
    " 1. Full name:\n",
    "    Shown in a fullName element/property in the RDF format.\n",
    " 2. Abbreviations or acronyms of the full name:\n",
    "    Shown in shortName elements/properties in the RDF format.\n",
    "\n",
    "There are furthermore a few categories with more specific meanings:\n",
    "\n",
    "  1. Name of an allergen:\n",
    "     Shown in an allergenName element/property in the RDF format.\n",
    "  2. Names of CD antigens:\n",
    "     Shown in CdAntigenName elements/properties in the RDF format.\n",
    "  3. Name used in a biotechnological context:\n",
    "     Shown in a biotechName element/property in the RDF format.\n",
    "  4. International nonproprietary names:\n",
    "     Shown in innName elements/properties in the RDF format.\n",
    "  5. Enzyme Commission EC numbers.\n",
    "     This links a name with the EC number that clasifies the enzymatic activity of this entry.\n",
    "     See the notebook enzymes for more details.\n"
   ]
  },
  {
   "cell_type": "code",
   "execution_count": 2,
   "metadata": {},
   "outputs": [],
   "source": [
    "entry=Graph().parse(format='ttl',\n",
    "                     data=\"\"\"\n",
    "base <http://purl.uniprot.org/uniprot/>  \n",
    "prefix up: <http://purl.uniprot.org/core/>\n",
    "prefix rdf: <http://www.w3.org/1999/02/22-rdf-syntax-ns#> \n",
    "prefix isoform:<http://purl.uniprot.org/isoforms/>\n",
    "prefix enzyme: <http://purl.uniprot.org/enzyme/>\n",
    "\n",
    "<P12820>\n",
    "  a up:Protein ;\n",
    "  up:recommendedName\n",
    "    <P12820#SIP30A> ;\n",
    "  up:alternativeName\n",
    "    <P12820#SIP62B> ,\n",
    "    <P12820#SIPE4F> ,\n",
    "    <P12820#SIPFE1> ;\n",
    "  up:enzyme\n",
    "    enzyme:3.2.1.- ,\n",
    "    enzyme:3.4.15.1 ;\n",
    "  up:sequence\n",
    "    isoform:P12820-1 .\n",
    "\n",
    "<P12820#SIP30A>\n",
    "  rdf:type up:Structured_Name ;\n",
    "  up:fullName \"Angiotensin-converting enzyme\" ;\n",
    "  up:shortName \"ACE\" ;\n",
    "  up:ecName \"3.2.1.-\" ,\n",
    "    \"3.4.15.1\" .\n",
    "\n",
    "<P12820#SIP62B>\n",
    "  rdf:type up:Structured_Name ;\n",
    "  up:fullName \"Dipeptidyl carboxypeptidase I\" .\n",
    "\n",
    "<P12820#SIPE4F>\n",
    "  rdf:type up:Structured_Name ;\n",
    "  up:fullName \"Kininase II\" .\n",
    "\n",
    "<P12820#SIPFE1>\n",
    "  rdf:type up:Structured_Name ;\n",
    "  up:cdAntigenName \"CD143\" .\n",
    "\n",
    "isoform:P12820-1\n",
    "  rdf:type up:Simple_Sequence ;\n",
    "  up:precursor true ;\n",
    "  up:fragment \"single\" .\"\"\")\n"
   ]
  },
  {
   "cell_type": "markdown",
   "metadata": {},
   "source": [
    "### Selecting a recommended full name"
   ]
  },
  {
   "cell_type": "code",
   "execution_count": 3,
   "metadata": {},
   "outputs": [
    {
     "name": "stdout",
     "output_type": "stream",
     "text": [
      "UniProt recommends that http://purl.uniprot.org/uniprot/P12820 is called Angiotensin-converting enzyme\n"
     ]
    }
   ],
   "source": [
    "qres=entry.query(\"\"\"\n",
    "PREFIX up: <http://purl.uniprot.org/core/> \n",
    "PREFIX uniprotkb: <http://purl.uniprot.org/uniprot/> \n",
    "SELECT \n",
    "    ?protein \n",
    "    ?fullName\n",
    "WHERE {\n",
    "    ?protein a up:Protein ;\n",
    "      up:recommendedName ?recommendedName .\n",
    "    ?recommendedName up:fullName ?fullName .\n",
    "}\"\"\")\n",
    "#for t in entry:\n",
    "#    print(t[0], t[1] ,t[2])\n",
    "for row in qres:\n",
    "    print(\"UniProt recommends that %s is called %s\" % row)"
   ]
  },
  {
   "cell_type": "markdown",
   "metadata": {},
   "source": [
    "### Alternative names"
   ]
  },
  {
   "cell_type": "code",
   "execution_count": 6,
   "metadata": {},
   "outputs": [
    {
     "name": "stdout",
     "output_type": "stream",
     "text": [
      "http://purl.uniprot.org/uniprot/P12820 is also known as Dipeptidyl carboxypeptidase I\n",
      "http://purl.uniprot.org/uniprot/P12820 is also known as Kininase II\n"
     ]
    }
   ],
   "source": [
    "qres=entry.query(\"\"\"\n",
    "PREFIX up: <http://purl.uniprot.org/core/> \n",
    "PREFIX uniprotkb: <http://purl.uniprot.org/uniprot/> \n",
    "SELECT \n",
    "    ?protein \n",
    "    ?fullName\n",
    "WHERE {\n",
    "    ?protein a up:Protein ;\n",
    "      up:alternativeName ?alternativeName .\n",
    "    ?alternativeName up:fullName ?fullName .\n",
    "}\"\"\")\n",
    "\n",
    "for row in qres:\n",
    "    print(\"%s is also known as %s\" % row)"
   ]
  }
 ],
 "metadata": {
  "kernelspec": {
   "display_name": "Python 3",
   "language": "python",
   "name": "python3"
  },
  "language_info": {
   "codemirror_mode": {
    "name": "ipython",
    "version": 3
   },
   "file_extension": ".py",
   "mimetype": "text/x-python",
   "name": "python",
   "nbconvert_exporter": "python",
   "pygments_lexer": "ipython3",
   "version": "3.9.2"
  }
 },
 "nbformat": 4,
 "nbformat_minor": 4
}
