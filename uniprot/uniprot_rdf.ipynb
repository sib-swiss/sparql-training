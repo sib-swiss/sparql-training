{
 "cells": [
  {
   "cell_type": "markdown",
   "metadata": {},
   "source": [
    "# Required Python library\n",
    "\n",
    "First we import rdflib which is a well known python library that gives RDF and its query language support to Python2 and 3"
   ]
  },
  {
   "cell_type": "code",
   "execution_count": 1,
   "metadata": {},
   "outputs": [],
   "source": [
    "import sys\n",
    "from rdflib import *\n",
    "import pandas as pd\n",
    "pd.options.display.width=120\n",
    "pd.options.display.max_colwidth=100\n",
    "\n",
    "\n",
    "from SPARQLWrapper import SPARQLWrapper, JSON"
   ]
  },
  {
   "cell_type": "markdown",
   "metadata": {},
   "source": [
    "# Minimal UniProt entry in RDF\n",
    "\n",
    "We have the absolute minimal information here.\n",
    "We say that `Q96P20` is an `up:Protein` .\n",
    "We also say that it is `up:reviewed` .\n",
    "    \n",
    "There are 5 lines in the rdf.\n",
    "The first three are declaring abreviations.\n",
    "\n",
    "The last two are our data.\n",
    "\n",
    "The first line starting with `@base` say that if something found between `<>` is not an absolute IRI prepend the base. This base is for all entries in UniProtKB.\n",
    "The second line says anything starting with `up:` is in the UniProt core schema ontology i.e. our custom terminology\n",
    "The third line is for the `rdf:` standard namespace.\n"
   ]
  },
  {
   "cell_type": "code",
   "execution_count": 2,
   "metadata": {},
   "outputs": [
    {
     "name": "stdout",
     "output_type": "stream",
     "text": [
      "@prefix rdf: <http://www.w3.org/1999/02/22-rdf-syntax-ns#> .\n",
      "@prefix rdfs: <http://www.w3.org/2000/01/rdf-schema#> .\n",
      "@prefix up: <http://purl.uniprot.org/core/> .\n",
      "@prefix xml: <http://www.w3.org/XML/1998/namespace> .\n",
      "@prefix xsd: <http://www.w3.org/2001/XMLSchema#> .\n",
      "\n",
      "<http://purl.uniprot.org/uniprot/Q96P20> a up:Protein ;\n",
      "    up:reviewed true .\n",
      "\n",
      "\n"
     ]
    }
   ],
   "source": [
    "Q96P20=Graph().parse(format='ttl',\n",
    "                     data='base <http://purl.uniprot.org/uniprot/>  \\\n",
    "                     prefix up: <http://purl.uniprot.org/core/>  \\\n",
    "                     prefix rdf: <http://www.w3.org/1999/02/22-rdf-syntax-ns#>  \\\n",
    "                     <Q96P20> rdf:type up:Protein ;  \\\n",
    "                       up:reviewed true .')\n",
    "\n",
    "for subj, pred, obj in Q96P20:\n",
    "   if (subj, pred, obj) not in Q96P20:\n",
    "       raise Exception(\"It better be!\")\n",
    "\n",
    "s = Q96P20.serialize(format='ttl')\n",
    "print(s)\n"
   ]
  },
  {
   "cell_type": "markdown",
   "metadata": {},
   "source": [
    "# Reviewed or unreviewed: that is the question\n",
    "\n",
    "Lets ask if our entry is a Swiss-Prot entry or a TrEMBL entry"
   ]
  },
  {
   "cell_type": "code",
   "execution_count": 3,
   "metadata": {},
   "outputs": [
    {
     "name": "stdout",
     "output_type": "stream",
     "text": [
      "http://purl.uniprot.org/uniprot/Q96P20 is an Swiss-Prot entry true\n"
     ]
    }
   ],
   "source": [
    "qres=Q96P20.query('prefix up: <http://purl.uniprot.org/core/> \\\n",
    "SELECT \\\n",
    "    ?protein \\\n",
    "    ?isEntryAnSwissProtEntry \\\n",
    "WHERE {\\\n",
    "  ?protein a up:Protein . \\\n",
    "  ?protein up:reviewed ?isEntryAnSwissProtEntry . \\\n",
    "}')\n",
    "\n",
    "for row in qres:\n",
    "    print(\"%s is an Swiss-Prot entry %s\" % row)\n"
   ]
  },
  {
   "cell_type": "markdown",
   "metadata": {},
   "source": [
    "So what did you see here. The query starts with a prefix again introducting the abbreviation for the uniprot schema. Then a `SELECT` clause.\n",
    "We ask for two things here an `?protein` and a `?isEntryAnSwissProtEntry`.\n",
    "This is followed by a `WHERE` clause.\n",
    "The `WHERE` clause contains two basic graph patterns (BGP)\n",
    "BGP are bassically triples with some of the subject,predicate or object replaced by a variable.\n",
    "The query engine fills in the values from the data in the database and returns it."
   ]
  },
  {
   "cell_type": "code",
   "execution_count": 4,
   "metadata": {},
   "outputs": [
    {
     "name": "stdout",
     "output_type": "stream",
     "text": [
      "http://purl.uniprot.org/uniprot/Q96P20 is an Swiss-Prot entry true\n"
     ]
    }
   ],
   "source": [
    "qres=Q96P20.query('prefix up: <http://purl.uniprot.org/core/> \\\n",
    "SELECT \\\n",
    "    ?protein \\\n",
    "    ?isEntryAnSwissProtEntry \\\n",
    "WHERE {\\\n",
    "  ?protein a up:Protein ; \\\n",
    "           up:reviewed ?isEntryAnSwissProtEntry \\\n",
    "}')\n",
    "\n",
    "for row in qres:\n",
    "    print(\"%s is an Swiss-Prot entry %s\" % row)"
   ]
  },
  {
   "cell_type": "markdown",
   "metadata": {},
   "source": [
    "The same query al we did was use the abbreviation of ';' so that we did not repeat ourselves.\n",
    "Not repeating yourself is a good way to avoid silly typo's from ruining your query!"
   ]
  },
  {
   "cell_type": "markdown",
   "metadata": {},
   "source": [
    "# Names, names so many names"
   ]
  },
  {
   "cell_type": "code",
   "execution_count": 5,
   "metadata": {},
   "outputs": [
    {
     "name": "stdout",
     "output_type": "stream",
     "text": [
      "http://purl.uniprot.org/core/allergenName\n",
      "http://purl.uniprot.org/core/biotechName\n",
      "http://purl.uniprot.org/core/cdAntigenName\n",
      "http://purl.uniprot.org/core/ecName\n",
      "http://purl.uniprot.org/core/fullName\n",
      "http://purl.uniprot.org/core/internationalNonproprietaryName\n",
      "http://purl.uniprot.org/core/shortName\n"
     ]
    }
   ],
   "source": [
    "#There are lot's of different kinds of names for proteins.\n",
    "from SPARQLWrapper import SPARQLWrapper, JSON\n",
    "\n",
    "sparql=SPARQLWrapper('https://sparql.uniprot.org/sparql')\n",
    "sparql.setQuery(\"\"\"\n",
    "  PREFIX up: <http://purl.uniprot.org/core/>\n",
    "  PREFIX rdfs: <http://www.w3.org/2000/01/rdf-schema#> \n",
    "  SELECT \n",
    "    ?kindOfName \n",
    "  WHERE {\n",
    "    GRAPH<http://purl.uniprot.org/core/>{ \n",
    "        ?kindOfName rdfs:subPropertyOf up:structuredNameType\n",
    "    }\n",
    "  }\"\"\")\n",
    "sparql.setReturnFormat(JSON)\n",
    "results = sparql.query().convert()\n",
    "\n",
    "for result in results[\"results\"][\"bindings\"]:\n",
    "    print(result[\"kindOfName\"][\"value\"])"
   ]
  },
  {
   "cell_type": "markdown",
   "metadata": {},
   "source": [
    "There is a lot going on in this example. First we use the full uniprot sparql endpoint, so a real live endpoint, used by lots of people.\n",
    "When using the real uniprot sparql endpoint it would be nice for your co users if you write targeted queries.\n",
    "The faster your query is written the easier it is to answer and more likely it does not time out our generous limits and your http connecction settings\n",
    "\n",
    "So in the query we use two prefixes, `up:` and `rdfs:`. The up: schema is of course ours, but the RDFS one you will find in almost every other dataset too.\n",
    "It is avery generic litle schema for relating concepts. Here we use `rdf:subPropertyOf` which is basically just saying that this is a more specific predicate.\n",
    "\n",
    "There are biological (community) reasons for all these names.\n",
    "However they are grouped in bunches that belong together."
   ]
  },
  {
   "cell_type": "code",
   "execution_count": 6,
   "metadata": {},
   "outputs": [
    {
     "name": "stdout",
     "output_type": "stream",
     "text": [
      "http://purl.uniprot.org/uniprot/Q96P20#SIPE0A17F4351205436 is an structured name NACHT, LRR and PYD domains-containing protein 3 is one of it's names\n",
      "http://purl.uniprot.org/uniprot/Q96P20#SIPA190CC955EA6E7E7 is an structured name Angiotensin/vasopressin receptor AII/AVP-like is one of it's names\n",
      "http://purl.uniprot.org/uniprot/Q96P20#SIP5C26CFD46CD2AE93 is an structured name Cold-induced autoinflammatory syndrome 1 protein is one of it's names\n",
      "http://purl.uniprot.org/uniprot/Q96P20#SIP779F44FABBD9C4E2 is an structured name PYRIN-containing APAF1-like protein 1 is one of it's names\n",
      "http://purl.uniprot.org/uniprot/Q96P20#SIPFE6783A277ACFCCC is an structured name Caterpiller protein 1.1 is one of it's names\n",
      "http://purl.uniprot.org/uniprot/Q96P20#SIPFE6783A277ACFCCC is an structured name CLR1.1 is one of it's names\n",
      "http://purl.uniprot.org/uniprot/Q96P20#SIP67B63DF8BD1345C7 is an structured name Cryopyrin is one of it's names\n"
     ]
    }
   ],
   "source": [
    "turtle=\"\"\"\n",
    "base <http://purl.uniprot.org/uniprot/>  \n",
    "prefix up: <http://purl.uniprot.org/core/>  \n",
    "prefix rdf: <http://www.w3.org/1999/02/22-rdf-syntax-ns#>  \n",
    "<Q96P20> rdf:type up:Protein ;  \n",
    "  up:reviewed true ;\n",
    "  up:recommendedName <Q96P20#SIPE0A17F4351205436> ;\n",
    "  up:alternativeName <Q96P20#SIPA190CC955EA6E7E7> ,\n",
    "    <Q96P20#SIPFE6783A277ACFCCC> ,\n",
    "    <Q96P20#SIP5C26CFD46CD2AE93> ,\n",
    "    <Q96P20#SIP67B63DF8BD1345C7> ,\n",
    "    <Q96P20#SIP779F44FABBD9C4E2> .\n",
    "<Q96P20#SIPE0A17F4351205436> rdf:type up:Structured_Name ;\n",
    "  up:fullName \"NACHT, LRR and PYD domains-containing protein 3\" .\n",
    "<Q96P20#SIPA190CC955EA6E7E7> rdf:type up:Structured_Name ;\n",
    "  up:fullName \"Angiotensin/vasopressin receptor AII/AVP-like\" .\n",
    "<Q96P20#SIPFE6783A277ACFCCC> rdf:type up:Structured_Name ;\n",
    "  up:fullName \"Caterpiller protein 1.1\" ;\n",
    "  up:shortName \"CLR1.1\" .\n",
    "<Q96P20#SIP5C26CFD46CD2AE93> rdf:type up:Structured_Name ;\n",
    "  up:fullName \"Cold-induced autoinflammatory syndrome 1 protein\" .\n",
    "<Q96P20#SIP67B63DF8BD1345C7> rdf:type up:Structured_Name ;\n",
    "  up:fullName \"Cryopyrin\" .\n",
    "<Q96P20#SIP779F44FABBD9C4E2> rdf:type up:Structured_Name ;\n",
    "  up:fullName \"PYRIN-containing APAF1-like protein 1\" .\"\"\"\n",
    "\n",
    "Q96P20=Graph().parse(format='ttl',\n",
    "                     data=turtle)\n",
    "qres=Q96P20.query(\"\"\"\n",
    "PREFIX up: <http://purl.uniprot.org/core/> \n",
    "SELECT \n",
    "    ?groupOfNames \n",
    "    ?name \n",
    "WHERE {\n",
    "  ?protein a up:Protein ; \n",
    "           up:recommendedName|up:alternativeName|up:submittedName ?groupOfNames .\n",
    "  ?groupOfNames (up:allergenName|up:biotechName|up:cdAntigenName|up:ecName|up:fullName|up:internationalNonproprietaryName|up:shortName) ?name\n",
    "}\"\"\")\n",
    "\n",
    "for row in qres:\n",
    "    print(\"%s is an structured name %s is one of it's names\" % row)"
   ]
  },
  {
   "cell_type": "code",
   "execution_count": 7,
   "metadata": {},
   "outputs": [
    {
     "name": "stdout",
     "output_type": "stream",
     "text": [
      "ub3bL6C22 is an structured name NACHT, LRR and PYD domains-containing protein 3 is one of it's names\n",
      "ub3bL15C22 is an structured name Cryopyrin is one of it's names\n",
      "ub3bL13C22 is an structured name Cold-induced autoinflammatory syndrome 1 protein is one of it's names\n",
      "ub3bL8C22 is an structured name Angiotensin/vasopressin receptor AII/AVP-like is one of it's names\n",
      "ub3bL10C22 is an structured name Caterpiller protein 1.1 is one of it's names\n",
      "ub3bL10C22 is an structured name CLR1.1 is one of it's names\n",
      "ub3bL17C22 is an structured name PYRIN-containing APAF1-like protein 1 is one of it's names\n"
     ]
    }
   ],
   "source": [
    "turtle=\"\"\"\n",
    "base <http://purl.uniprot.org/uniprot/>  \n",
    "prefix up: <http://purl.uniprot.org/core/>  \n",
    "prefix rdf: <http://www.w3.org/1999/02/22-rdf-syntax-ns#>  \n",
    "<Q96P20> rdf:type up:Protein ;  \n",
    "  up:reviewed true ;\n",
    "  up:recommendedName [ rdf:type up:Structured_Name ;\n",
    "                       up:fullName \"NACHT, LRR and PYD domains-containing protein 3\"  ] ;\n",
    "  up:alternativeName [ rdf:type up:Structured_Name ;\n",
    "                       up:fullName \"Angiotensin/vasopressin receptor AII/AVP-like\" ] ,\n",
    "                     [ rdf:type up:Structured_Name ;\n",
    "                       up:fullName \"Caterpiller protein 1.1\" ;\n",
    "                       up:shortName \"CLR1.1\"  ] ,\n",
    "                     [ rdf:type up:Structured_Name ;\n",
    "                       up:fullName \"Cold-induced autoinflammatory syndrome 1 protein\"  ] ,\n",
    "                     [ rdf:type up:Structured_Name ;\n",
    "                       up:fullName \"Cryopyrin\"  ] ,\n",
    "                     [ rdf:type up:Structured_Name ;\n",
    "                       up:fullName \"PYRIN-containing APAF1-like protein 1\"  ] .\n",
    "\"\"\"\n",
    "\n",
    "Q96P20=Graph().parse(format='ttl',\n",
    "                     data=turtle)\n",
    "qres=Q96P20.query(\"\"\"\n",
    "PREFIX up: <http://purl.uniprot.org/core/> \n",
    "SELECT \n",
    "    ?groupOfNames \n",
    "    ?name \n",
    "WHERE {\n",
    "  ?protein a up:Protein ; \n",
    "           up:recommendedName|up:alternativeName|up:submittedName ?groupOfNames .\n",
    "  ?groupOfNames (up:allergenName|up:biotechName|up:cdAntigenName|up:ecName|up:fullName|up:internationalNonproprietaryName|up:shortName) ?name\n",
    "}\"\"\")\n",
    "\n",
    "for row in qres:\n",
    "    print(\"%s is an structured name %s is one of it's names\" % row)"
   ]
  },
  {
   "cell_type": "markdown",
   "metadata": {},
   "source": [
    "This example is the 'same' data as before just our internal identifiers have been replaced by a blank node. i.e. the RDF equivalent of the second line from the top in this document. We used to have a lot of them but are actively replacing them with stable or content based indentifiers."
   ]
  },
  {
   "cell_type": "markdown",
   "metadata": {},
   "source": [
    "# Values example"
   ]
  },
  {
   "cell_type": "code",
   "execution_count": 8,
   "metadata": {
    "scrolled": true
   },
   "outputs": [
    {
     "name": "stdout",
     "output_type": "stream",
     "text": [
      "ub3bL6C22 is an structured name NACHT, LRR and PYD domains-containing protein 3 is one of it's names\n",
      "ub3bL15C22 is an structured name Cryopyrin is one of it's names\n",
      "ub3bL13C22 is an structured name Cold-induced autoinflammatory syndrome 1 protein is one of it's names\n",
      "ub3bL8C22 is an structured name Angiotensin/vasopressin receptor AII/AVP-like is one of it's names\n",
      "ub3bL10C22 is an structured name Caterpiller protein 1.1 is one of it's names\n",
      "ub3bL10C22 is an structured name CLR1.1 is one of it's names\n",
      "ub3bL17C22 is an structured name PYRIN-containing APAF1-like protein 1 is one of it's names\n"
     ]
    }
   ],
   "source": [
    "qres=Q96P20.query(\"\"\"\n",
    "PREFIX up: <http://purl.uniprot.org/core/> \n",
    "SELECT \n",
    "    ?groupOfNames \n",
    "    ?name \n",
    "WHERE {\n",
    "  VALUES (?structuredNameTypes) {(up:recommendedName) (up:alternativeName) (up:submittedName) }\n",
    "  ?protein a up:Protein ; \n",
    "           ?structuredNameTypes ?groupOfNames .\n",
    "  ?groupOfNames (up:allergenName|up:biotechName|up:cdAntigenName|up:ecName|up:fullName|up:internationalNonproprietaryName|up:shortName) ?name\n",
    "}\"\"\")\n",
    "\n",
    "for row in qres:\n",
    "    print(\"%s is an structured name %s is one of it's names\" % row)"
   ]
  },
  {
   "cell_type": "markdown",
   "metadata": {},
   "source": [
    "Again the an equivalent query, we are just introducing the VALUES clause which can be used to embed lists into a query.\n",
    "\n",
    "Another way is to write this query using the [UNION clause](https://www.w3.org/TR/sparql11-query/#alternatives)"
   ]
  },
  {
   "cell_type": "markdown",
   "metadata": {},
   "source": [
    "# UNION example"
   ]
  },
  {
   "cell_type": "code",
   "execution_count": 9,
   "metadata": {},
   "outputs": [],
   "source": [
    "qres=Q96P20.query(\"\"\"\n",
    "PREFIX up: <http://purl.uniprot.org/core/> \n",
    "SELECT \n",
    "    ?groupOfNames \n",
    "    ?name \n",
    "WHERE {\n",
    "  VALUES (?structuredNameTypes) {(up:recommendedName) (up:alternativeName) (up:submittedName) }\n",
    "  ?protein a up:Protein ; \n",
    "           ?structuredNameTypes ?groupOfNames .\n",
    "  { ?groupOfNames up:allergenName ?name}\n",
    "  \n",
    "  { ?groupOfNames up:biotechName ?name } \n",
    "  \n",
    "  { ?groupOfNames up:cdAntigenName ?name }\n",
    "  \n",
    "  { ?groupOfNames up:ecName ?name }\n",
    "  \n",
    "  { ?groupOfNames up:fullName ?name }\n",
    "  \n",
    "  { ?groupOfNames up:internationalNonproprietaryName ?name }\n",
    "  \n",
    "  { ?groupOfNames up:shortName ?name }\n",
    "}\"\"\")\n",
    "\n",
    "\n",
    "for row in qres:\n",
    "    print(\"%s is an structured name %s is one of it's names\" % row)"
   ]
  },
  {
   "cell_type": "markdown",
   "metadata": {},
   "source": [
    "# Genes\n",
    "\n",
    "UniProt being a protein database has some information about genes but not always well combined with genome resources. This is something we have started to improve."
   ]
  },
  {
   "cell_type": "code",
   "execution_count": 10,
   "metadata": {},
   "outputs": [
    {
     "name": "stdout",
     "output_type": "stream",
     "text": [
      "http://purl.uniprot.org/uniprot/Q96P20 is a protein with a gene http://purl.uniprot.org/uniprot/Q96P20#gene-MD57F23A94CA630E0FBCD9731572CF3E82A that has 5 names\n"
     ]
    }
   ],
   "source": [
    "turtle=\"\"\"\n",
    "base <http://purl.uniprot.org/uniprot/>  \n",
    "prefix up: <http://purl.uniprot.org/core/>  \n",
    "prefix rdf: <http://www.w3.org/1999/02/22-rdf-syntax-ns#>  \n",
    "prefix skos: <http://www.w3.org/2004/02/skos/core#>\n",
    "<Q96P20> rdf:type up:Protein ;  \n",
    "  up:reviewed true ;\n",
    "  up:encodedBy <Q96P20#gene-MD57F23A94CA630E0FBCD9731572CF3E82A> .\n",
    "<Q96P20#gene-MD57F23A94CA630E0FBCD9731572CF3E82A> rdf:type up:Gene ;\n",
    "  skos:prefLabel \"NLRP3\" ;\n",
    "  skos:altLabel \"C1orf7\" ,\n",
    "    \"CIAS1\" ,\n",
    "    \"NALP3\" ,\n",
    "    \"PYPAF1\" .\n",
    "\"\"\"\n",
    "\n",
    "\n",
    "Q96P20=Graph().parse(format='ttl',\n",
    "                     data=turtle)\n",
    "\n",
    "qres=Q96P20.query(\"\"\"\n",
    "PREFIX up: <http://purl.uniprot.org/core/> \n",
    "PREFIX skos: <http://www.w3.org/2004/02/skos/core#>\n",
    "SELECT \n",
    "    ?protein \n",
    "    ?gene \n",
    "    (COUNT(?geneName) AS ?countOfNames)\n",
    "WHERE {\n",
    "    ?protein up:encodedBy ?gene .\n",
    "    ?gene skos:prefLabel|skos:altLabel ?geneName\n",
    "} \n",
    "GROUP BY ?protein ?gene \n",
    "ORDER BY DESC(COUNT(?geneName))\n",
    "HAVING (COUNT(?geneName) > 100)\n",
    "\"\"\")\n",
    "    \n",
    "for row in qres:\n",
    "    print(\"%s is a protein with a gene %s that has %s names\" % row)"
   ]
  },
  {
   "cell_type": "markdown",
   "metadata": {},
   "source": [
    "# Annotation: what do we know about a Protein"
   ]
  },
  {
   "cell_type": "code",
   "execution_count": 11,
   "metadata": {},
   "outputs": [],
   "source": [
    "turtle=\"\"\"\n",
    "base <http://purl.uniprot.org/uniprot/>  \n",
    "prefix up: <http://purl.uniprot.org/core/>  \n",
    "prefix rdf: <http://www.w3.org/1999/02/22-rdf-syntax-ns#>  \n",
    "prefix skos: <http://www.w3.org/2004/02/skos/core#>\n",
    "prefix isoform: <http://purl.uniprot.org/isoforms/> \n",
    "prefix annotation: <http://purl.uniprot.org/annotation/>\n",
    "prefix rdfs: <http://www.w3.org/2000/01/rdf-schema#>\n",
    "<Q96P20> rdf:type up:Protein ;  \n",
    "  up:reviewed true ;\n",
    "  up:annotation annotation:PRO_0000213569 ,\n",
    "                annotation:VSP_013037 .\n",
    "\n",
    "isoform:Q9NT62-2 rdf:type up:Modified_Sequence ;\n",
    "  up:name \"2\" ;\n",
    "  up:basedOn isoform:Q9NT62-1 ;\n",
    "  rdf:value \"MQNVINTVKGKALEVAEYLTPVLKESKFKETGVITPEEFVAAGDHLVHHCPTWQWATGEELKVKAYLPTGKQFLVTKNVPCYKRCKQMEYSDELEAIIEEDDGDGGWVDTYHNTGITGITEAVKEITLENKDNIRLQDCSALCEEEEDEDEGEAADMEEYEESGLLETDEATLDTRKIVEACKAKTDAGGEDAILQTRTYDLYITYDKYYQTPRLWLFGYDEQRQPLTVEHMYEDISQDHVKKTVTIENHPHLPPPPMCSVHPCRHAEVMKKIIETVAEGGGELGVHMYPSLYVRLVAKWLLTIFFLRNLV\" ;\n",
    "  up:modification annotation:VSP_013037 .\n",
    "  \n",
    "annotation:PRO_0000213569 rdf:type up:Chain_Annotation ;\n",
    "  rdfs:comment \"Ubiquitin-like-conjugating enzyme ATG3\" .\n",
    "  \n",
    "annotation:VSP_013037 rdf:type up:Alternative_Sequence_Annotation ;\n",
    "  rdfs:comment \"In isoform 2.\" ;\n",
    "  up:substitution \"PSLYVRLVAKWLLTIFFLRNLV\" .\n",
    "\"\"\"\n",
    "\n",
    "\n",
    "Q96P20=Graph().parse(format='ttl',\n",
    "                     data=turtle)\n",
    "\n"
   ]
  },
  {
   "cell_type": "markdown",
   "metadata": {},
   "source": [
    "Here we start to introduce annotations, the most interesting data in UniProtKB.\n",
    "\n",
    "A few annotation types have stable identifiers in all our formats, (Peptide) Chains and Alternative Sequence Annotation has this.\n",
    "\n",
    "All our annotations have a\n",
    "`rdf:type` -> which kind of annotation is it.\n",
    "`rdfs:comment` -> the curator entered text in Swiss-Prot, what was submitted or automatically added in TrEMBL\n",
    "\n",
    "Many have:\n",
    "`up:sequence` -> which of the isoforms/products this specific annotation applies too.\n",
    "\n",
    "Here we also see\n",
    "`up:substitution` -> peptides that are inserted at a range to make the sequence. Used to describe variations in the Protein sequence."
   ]
  },
  {
   "cell_type": "markdown",
   "metadata": {},
   "source": [
    "Roughly speaking there are two main categories of annotations, features and comments or in RDF speak `up:Sequence_Annotation` and just `up:Annotation` \n",
    "\n",
    "`up:Sequence_Annotation` uses [FALDO](http://biohackathon.org/resource/faldo) to describe where a feature is. "
   ]
  },
  {
   "cell_type": "code",
   "execution_count": 12,
   "metadata": {},
   "outputs": [
    {
     "name": "stdout",
     "output_type": "stream",
     "text": [
      "http://purl.uniprot.org/uniprot/Q96P20 is a protein with an annotation of type http://purl.uniprot.org/core/Alternative_Sequence_Annotation starting at 290 and ending at 314 on sequence http://purl.uniprot.org/isoforms/Q9NT62-1\n"
     ]
    }
   ],
   "source": [
    "turtle=\"\"\"\n",
    "base <http://purl.uniprot.org/uniprot/>  \n",
    "prefix up: <http://purl.uniprot.org/core/>  \n",
    "prefix rdf: <http://www.w3.org/1999/02/22-rdf-syntax-ns#>  \n",
    "prefix skos: <http://www.w3.org/2004/02/skos/core#>\n",
    "prefix isoform: <http://purl.uniprot.org/isoforms/> \n",
    "prefix annotation: <http://purl.uniprot.org/annotation/>\n",
    "prefix rdfs: <http://www.w3.org/2000/01/rdf-schema#>\n",
    "prefix faldo: <http://biohackathon.org/resource/faldo#>\n",
    "prefix position: <http://purl.uniprot.org/position/> \n",
    "prefix range: <http://purl.uniprot.org/range/>\n",
    "prefix xsd: <http://www.w3.org/2001/XMLSchema#>\n",
    "\n",
    "<Q96P20> rdf:type up:Protein ;  \n",
    "  up:reviewed true ;\n",
    "  up:annotation annotation:VSP_013037 ;\n",
    "  up:sequence isoform:Q9NT62-1, isoform:Q9NT62-2 .\n",
    "  \n",
    "annotation:VSP_013037 rdf:type up:Alternative_Sequence_Annotation ;\n",
    "  rdfs:comment \"In isoform 2.\" ;\n",
    "  up:substitution \"PSLYVRLVAKWLLTIFFLRNLV\" ;\n",
    "  up:range range:22862481696633390tt290tt314 .\n",
    "  \n",
    "range:22862481696633390tt290tt314 rdf:type faldo:Region ;\n",
    "  faldo:begin position:22862481696633390tt290 ;\n",
    "  faldo:end position:22862481696633390tt314 .\n",
    "\n",
    "position:22862481696633390tt290 rdf:type faldo:Position ,\n",
    "    faldo:ExactPosition ;\n",
    "  faldo:position 290 ;\n",
    "  faldo:reference isoform:Q9NT62-1 .\n",
    "  \n",
    "position:22862481696633390tt314 rdf:type faldo:Position ,\n",
    "    faldo:ExactPosition ;\n",
    "  faldo:position 314 ;\n",
    "  faldo:reference isoform:Q9NT62-1 .\n",
    "\n",
    "\n",
    "isoform:Q9NT62-1 rdf:type up:Simple_Sequence ;\n",
    "  up:modified \"2000-10-01\"^^xsd:date ;\n",
    "  up:version 1 ;\n",
    "  up:mass 35864 ;\n",
    "  up:crc64Checksum \"40EFE88DB5FE3EAB\"^^xsd:token ;\n",
    "  up:name \"1\" ;\n",
    "  rdf:value \"MQNVINTVKGKALEVAEYLTPVLKESKFKETGVITPEEFVAAGDHLVHHCPTWQWATGEELKVKAYLPTGKQFLVTKNVPCYKRCKQMEYSDELEAIIEEDDGDGGWVDTYHNTGITGITEAVKEITLENKDNIRLQDCSALCEEEEDEDEGEAADMEEYEESGLLETDEATLDTRKIVEACKAKTDAGGEDAILQTRTYDLYITYDKYYQTPRLWLFGYDEQRQPLTVEHMYEDISQDHVKKTVTIENHPHLPPPPMCSVHPCRHAEVMKKIIETVAEGGGELGVHMYLLIFLKFVQAVIPTIEYDYTRHFTM\" .\n",
    "  \n",
    "isoform:Q9NT62-2 rdf:type up:Modified_Sequence ;\n",
    "  up:name \"2\" ;\n",
    "  up:basedOn isoform:Q9NT62-1 ;\n",
    "  rdf:value \"MQNVINTVKGKALEVAEYLTPVLKESKFKETGVITPEEFVAAGDHLVHHCPTWQWATGEELKVKAYLPTGKQFLVTKNVPCYKRCKQMEYSDELEAIIEEDDGDGGWVDTYHNTGITGITEAVKEITLENKDNIRLQDCSALCEEEEDEDEGEAADMEEYEESGLLETDEATLDTRKIVEACKAKTDAGGEDAILQTRTYDLYITYDKYYQTPRLWLFGYDEQRQPLTVEHMYEDISQDHVKKTVTIENHPHLPPPPMCSVHPCRHAEVMKKIIETVAEGGGELGVHMYPSLYVRLVAKWLLTIFFLRNLV\" ;\n",
    "  up:modification annotation:VSP_013037 .\n",
    "\"\"\"\n",
    "\n",
    "\n",
    "Q96P20=Graph().parse(format='ttl',\n",
    "                     data=turtle)\n",
    "\n",
    "qres=Q96P20.query(\"\"\"\n",
    "PREFIX up: <http://purl.uniprot.org/core/> \n",
    "PREFIX faldo: <http://biohackathon.org/resource/faldo#>\n",
    "SELECT \n",
    "    ?protein \n",
    "    ?annotationType \n",
    "    ?start\n",
    "    ?end\n",
    "    ?sequence\n",
    "WHERE {\n",
    "    ?protein up:annotation ?annotation .\n",
    "    ?annotation rdf:type ?annotationType .\n",
    "    ?annotation up:range ?range .\n",
    "    ?range     faldo:begin ?begin ;\n",
    "               faldo:end ?stop .\n",
    "    ?begin faldo:position ?start ;\n",
    "               faldo:reference ?sequence .\n",
    "    ?stop faldo:position ?end ;\n",
    "               faldo:reference ?sequence .\n",
    "} \n",
    "\"\"\")\n",
    "\n",
    "for row in qres:\n",
    "    print(\"%s is a protein with an annotation of type %s starting at %s and ending at %s on sequence %s\" % row)\n"
   ]
  },
  {
   "cell_type": "markdown",
   "metadata": {},
   "source": [
    "Why the layers of indirection. Simple biology doesn't need this, unfortunatly lots of biology is not simple.\n",
    "\n",
    "Things you might expect but are not always true\n",
    "genes -> start before they end\n",
    "      -> have a definedable length\n",
    "      -> are shorter than their chromesome they are on\n",
    "      -> start on the same chromesome that it ends on\n",
    "      -> position is actually known\n",
    "      -> genes are not wholy within other genes\n",
    "      -> and if they are they don't share exons\n",
    "      -> and if they do mutations in the one don't make the other non functional\n",
    "      \n",
    "[FALDO](https://pubmed.ncbi.nlm.nih.gov/27296299/) deals with the rare edge cases, and we pay for the extra triples in the simple cases. Specifically because the rare cases are often interesting for biological reasons.\n"
   ]
  },
  {
   "cell_type": "code",
   "execution_count": 13,
   "metadata": {},
   "outputs": [
    {
     "name": "stdout",
     "output_type": "stream",
     "text": [
      "http://purl.uniprot.org/uniprot/Q96P20 is a protein record with a sequence http://purl.uniprot.org/isoforms/Q9NT62-1 of length 314\n",
      "http://purl.uniprot.org/uniprot/Q96P20 is a protein record with a sequence http://purl.uniprot.org/isoforms/Q9NT62-2 of length 311\n"
     ]
    }
   ],
   "source": [
    "qres=Q96P20.query(\"\"\"\n",
    "PREFIX up: <http://purl.uniprot.org/core/> \n",
    "PREFIX faldo: <http://biohackathon.org/resource/faldo#>\n",
    "SELECT \n",
    "    ?protein \n",
    "    ?sequence\n",
    "    ?sequenceLength\n",
    "WHERE {\n",
    "    ?protein up:sequence ?sequence .\n",
    "    ?sequence rdf:value ?sequenceIUPACstring .\n",
    "    BIND(STRLEN(?sequenceIUPACstring ) AS ?sequenceLength)\n",
    "} \n",
    "\"\"\")\n",
    "\n",
    "for row in qres:\n",
    "    print(\"%s is a protein record with a sequence %s of length %s\" % row)\n"
   ]
  },
  {
   "cell_type": "markdown",
   "metadata": {},
   "source": [
    "# More annotation types!"
   ]
  },
  {
   "cell_type": "code",
   "execution_count": 14,
   "metadata": {},
   "outputs": [
    {
     "name": "stdout",
     "output_type": "stream",
     "text": [
      "http://purl.uniprot.org/core/Active_Site_Annotation\n",
      "http://www.uniprot.org/manual/act_site\n",
      "http://purl.uniprot.org/core/Allergen_Annotation\n",
      "http://www.uniprot.org/manual/allergenic_properties\n",
      "http://purl.uniprot.org/core/Alternative_Products_Annotation\n",
      "http://www.uniprot.org/manual/alternative_products\n",
      "http://purl.uniprot.org/core/Alternative_Sequence_Annotation\n",
      "http://www.uniprot.org/manual/var_seq\n",
      "http://purl.uniprot.org/core/Beta_Strand_Annotation\n",
      "http://www.uniprot.org/manual/strand\n",
      "http://purl.uniprot.org/core/Binding_Site_Annotation\n",
      "http://www.uniprot.org/manual/binding\n",
      "http://purl.uniprot.org/core/Biophysicochemical_Annotation\n",
      "http://purl.uniprot.org/core/biophysicochemical_properties\n",
      "http://purl.uniprot.org/core/Biotechnology_Annotation\n",
      "http://www.uniprot.org/manual/biotechnological_use\n",
      "http://purl.uniprot.org/core/Calcium_Binding_Annotation\n",
      "http://www.uniprot.org/manual/ca_bind\n",
      "http://purl.uniprot.org/core/Catalytic_Activity_Annotation\n",
      "http://www.uniprot.org/manual/catalytic_activity\n",
      "http://purl.uniprot.org/core/Caution_Annotation\n",
      "http://www.uniprot.org/manual/caution\n",
      "http://purl.uniprot.org/core/Chain_Annotation\n",
      "http://www.uniprot.org/manual/chain\n",
      "http://purl.uniprot.org/core/Cofactor_Annotation\n",
      "http://www.uniprot.org/manual/cofactor\n",
      "http://purl.uniprot.org/core/Coiled_Coil_Annotation\n",
      "http://www.uniprot.org/manual/coiled\n",
      "http://purl.uniprot.org/core/Compositional_Bias_Annotation\n",
      "http://www.uniprot.org/manual/compbias\n",
      "http://purl.uniprot.org/core/Cross-link_Annotation\n",
      "http://www.uniprot.org/manual/crosslnk\n",
      "http://purl.uniprot.org/core/Developmental_Stage_Annotation\n",
      "http://www.uniprot.org/manual/developmental_stage\n",
      "http://purl.uniprot.org/core/Disease_Annotation\n",
      "http://www.uniprot.org/manual/involvement_in_disease\n",
      "http://purl.uniprot.org/core/Disruption_Phenotype_Annotation\n",
      "http://www.uniprot.org/manual/disruption_phenotype\n",
      "http://purl.uniprot.org/core/Disulfide_Bond_Annotation\n",
      "http://www.uniprot.org/manual/disulfid\n",
      "http://purl.uniprot.org/core/Domain_Annotation\n",
      "http://www.uniprot.org/manual/domain_cc\n",
      "http://purl.uniprot.org/core/Domain_Extent_Annotation\n",
      "http://www.uniprot.org/manual/domain\n",
      "http://purl.uniprot.org/core/Enzyme_Regulation_Annotation\n",
      "http://www.uniprot.org/manual/enzyme_regulation\n",
      "http://purl.uniprot.org/core/Function_Annotation\n",
      "http://www.uniprot.org/manual/function\n",
      "http://purl.uniprot.org/core/Glycosylation_Annotation\n",
      "http://www.uniprot.org/manual/carbohyd\n",
      "http://purl.uniprot.org/core/Helix_Annotation\n",
      "http://www.uniprot.org/manual/helix\n",
      "http://purl.uniprot.org/core/Induction_Annotation\n",
      "http://www.uniprot.org/manual/induction\n",
      "http://purl.uniprot.org/core/Initiator_Methionine_Annotation\n",
      "http://www.uniprot.org/manual/init_met\n",
      "http://purl.uniprot.org/core/Intramembrane_Annotation\n",
      "http://www.uniprot.org/manual/Intramembrane\n",
      "http://purl.uniprot.org/core/Lipidation_Annotation\n",
      "http://www.uniprot.org/manual/lipid\n",
      "http://purl.uniprot.org/core/Mass_Spectrometry_Annotation\n",
      "http://www.uniprot.org/manual/mass_spectrometry\n",
      "http://purl.uniprot.org/core/Metal_Binding_Annotation\n",
      "http://www.uniprot.org/manual/metal\n",
      "http://purl.uniprot.org/core/Modified_Residue_Annotation\n",
      "http://www.uniprot.org/manual/mod_res\n",
      "http://purl.uniprot.org/core/Motif_Annotation\n",
      "http://www.uniprot.org/manual/motif\n",
      "http://purl.uniprot.org/core/Mutagenesis_Annotation\n",
      "http://www.uniprot.org/manual/mutagen\n",
      "http://purl.uniprot.org/core/NP_Binding_Annotation\n",
      "http://www.uniprot.org/manual/dna_bind\n",
      "http://purl.uniprot.org/core/Natural_Variant_Annotation\n",
      "http://www.uniprot.org/manual/variant\n",
      "http://purl.uniprot.org/core/Non-adjacent_Residues_Annotation\n",
      "http://www.uniprot.org/manual/non_cons\n",
      "http://purl.uniprot.org/core/Non-standard_Residue_Annotation\n",
      "http://www.uniprot.org/manual/non_std\n",
      "http://purl.uniprot.org/core/Non-terminal_Residue_Annotation\n",
      "http://www.uniprot.org/manual/non_ter\n",
      "http://purl.uniprot.org/core/Nucleotide_Binding_Annotation\n",
      "http://www.uniprot.org/manual/np_bind\n",
      "http://purl.uniprot.org/core/PTM_Annotation\n",
      "http://www.uniprot.org/manual/post-translational_modification\n",
      "http://purl.uniprot.org/core/Pathway_Annotation\n",
      "http://www.uniprot.org/manual/pathway\n",
      "http://purl.uniprot.org/core/Peptide_Annotation\n",
      "http://www.uniprot.org/manual/peptide\n",
      "http://purl.uniprot.org/core/Pharmaceutical_Annotation\n",
      "http://www.uniprot.org/manual/pharmaceutical_use\n",
      "http://purl.uniprot.org/core/Polymorphism_Annotation\n",
      "http://www.uniprot.org/manual/polymorphism\n",
      "http://purl.uniprot.org/core/Propeptide_Annotation\n",
      "http://www.uniprot.org/manual/propep\n",
      "http://purl.uniprot.org/core/RNA_Editing_Annotation\n",
      "http://www.uniprot.org/manual/rna_editing\n",
      "http://purl.uniprot.org/core/Repeat_Annotation\n",
      "http://www.uniprot.org/manual/repeat\n",
      "http://purl.uniprot.org/core/Sequence_Annotation\n",
      "http://www.uniprot.org/manual/sequence_annotation\n",
      "http://purl.uniprot.org/core/Sequence_Caution_Annotation\n",
      "http://www.uniprot.org/manual/sequence_caution\n",
      "http://purl.uniprot.org/core/Sequence_Conflict_Annotation\n",
      "http://www.uniprot.org/manual/conflict\n",
      "http://purl.uniprot.org/core/Sequence_Uncertainty_Annotation\n",
      "http://www.uniprot.org/manual/unsure\n",
      "http://purl.uniprot.org/core/Signal_Peptide_Annotation\n",
      "http://www.uniprot.org/manual/signal\n",
      "http://purl.uniprot.org/core/Similarity_Annotation\n",
      "http://www.uniprot.org/manual/sequence_similarities\n",
      "http://purl.uniprot.org/core/Site_Annotation\n",
      "http://www.uniprot.org/manual/site\n",
      "http://purl.uniprot.org/core/Subcellular_Location_Annotation\n",
      "http://www.uniprot.org/manual/subcellular_location\n",
      "http://purl.uniprot.org/core/Subunit_Annotation\n",
      "http://www.uniprot.org/manual/subunit_structure\n",
      "http://purl.uniprot.org/core/Tissue_Specificity_Annotation\n",
      "http://www.uniprot.org/manual/tissue_specificity\n",
      "http://purl.uniprot.org/core/Topological_Domain_Annotation\n",
      "http://www.uniprot.org/manual/domain\n",
      "http://purl.uniprot.org/core/Toxic_Dose_Annotation\n",
      "http://www.uniprot.org/manual/toxic_dose\n",
      "http://purl.uniprot.org/core/Transit_Peptide_Annotation\n",
      "http://www.uniprot.org/manual/transit\n",
      "http://purl.uniprot.org/core/Transmembrane_Annotation\n",
      "http://www.uniprot.org/manual/transmem\n",
      "http://purl.uniprot.org/core/Turn_Annotation\n",
      "http://www.uniprot.org/manual/turn\n",
      "http://purl.uniprot.org/core/Zinc_Finger_Annotation\n",
      "http://www.uniprot.org/manual/zn_fing\n",
      "http://purl.uniprot.org/core/Ribosomal_Frameshifting\n",
      "No manual link!\n",
      "http://purl.uniprot.org/core/Alternative_Splicing_Annotation\n",
      "No manual link!\n",
      "http://purl.uniprot.org/core/Alternative_Promoter_Usage_Annotation\n",
      "No manual link!\n",
      "http://purl.uniprot.org/core/Alternative_Initiation_Annotation\n",
      "No manual link!\n",
      "http://purl.uniprot.org/core/Temperature_Dependence_Annotation\n",
      "No manual link!\n",
      "http://purl.uniprot.org/core/Redox_Potential_Annotation\n",
      "No manual link!\n",
      "http://purl.uniprot.org/core/PH_Dependence_Annotation\n",
      "No manual link!\n",
      "http://purl.uniprot.org/core/Kinetics_Annotation\n",
      "No manual link!\n",
      "http://purl.uniprot.org/core/Absorption_Annotation\n",
      "No manual link!\n",
      "http://purl.uniprot.org/core/Secondary_Structure_Annotation\n",
      "No manual link!\n",
      "http://purl.uniprot.org/core/Region_Annotation\n",
      "No manual link!\n",
      "http://purl.uniprot.org/core/Natural_Variation_Annotation\n",
      "No manual link!\n",
      "http://purl.uniprot.org/core/Molecule_Processing_Annotation\n",
      "No manual link!\n",
      "http://purl.uniprot.org/core/Modification_Annotation\n",
      "No manual link!\n",
      "http://purl.uniprot.org/core/Experimental_Information_Annotation\n",
      "No manual link!\n",
      "http://purl.uniprot.org/core/Frameshift_Annotation\n",
      "No manual link!\n",
      "http://purl.uniprot.org/core/Erroneous_Translation_Annotation\n",
      "No manual link!\n",
      "http://purl.uniprot.org/core/Erroneous_Termination_Annotation\n",
      "No manual link!\n",
      "http://purl.uniprot.org/core/Erroneous_Initiation_Annotation\n",
      "No manual link!\n",
      "http://purl.uniprot.org/core/Erroneous_Gene_Model_Prediction_Annotation\n",
      "No manual link!\n"
     ]
    }
   ],
   "source": [
    "sparql=SPARQLWrapper('https://sparql.uniprot.org/sparql')\n",
    "sparql.setQuery(\"\"\"\n",
    "PREFIX rdfs:<http://www.w3.org/2000/01/rdf-schema#> \n",
    "PREFIX up:<http://purl.uniprot.org/core/> \n",
    "SELECT \n",
    "\t?annotationType \n",
    "\t?manual\n",
    "FROM <http://purl.uniprot.org/core/>\n",
    "WHERE\n",
    "{\n",
    "\t?annotationType rdfs:subClassOf+ up:Annotation .\n",
    "\tOPTIONAL {\n",
    "\t\t?annotationType rdfs:seeAlso ?manual\n",
    "\t}\n",
    "}\n",
    "\"\"\")\n",
    "\n",
    "\n",
    "sparql.setReturnFormat(JSON)\n",
    "results = sparql.query().convert()\n",
    "\n",
    "for result in results[\"results\"][\"bindings\"]:\n",
    "    print(result[\"annotationType\"][\"value\"])\n",
    "    if \"manual\" in result.keys():\n",
    "        print(result[\"manual\"][\"value\"])\n",
    "    else:\n",
    "        print(\"No manual link!\")"
   ]
  },
  {
   "cell_type": "markdown",
   "metadata": {},
   "source": [
    "Here we query our schema ontology for links to our manual pages, describing the biology beyond sets of annotations."
   ]
  },
  {
   "cell_type": "code",
   "execution_count": 0,
   "metadata": {},
   "outputs": [],
   "source": []
  },
  {
   "cell_type": "code",
   "execution_count": 0,
   "metadata": {},
   "outputs": [],
   "source": []
  },
  {
   "cell_type": "markdown",
   "metadata": {},
   "source": [
    "# Disease Annotation and related features"
   ]
  },
  {
   "cell_type": "code",
   "execution_count": 16,
   "metadata": {},
   "outputs": [
    {
     "name": "stdout",
     "output_type": "stream",
     "text": [
      "http://purl.uniprot.org/uniprot/P06239 is a protein record related to http://purl.uniprot.org/diseases/4079 via annotation http://purl.uniprot.org/uniprot/P06239#SIP02543850A4A84B97 named Immunodeficiency 22\n"
     ]
    }
   ],
   "source": [
    "P06239ttl=\"\"\"@base <http://purl.uniprot.org/uniprot/> .\n",
    "@prefix annotation: <http://purl.uniprot.org/annotation/> .\n",
    "@prefix bibo: <http://purl.org/ontology/bibo/> .\n",
    "@prefix citation: <http://purl.uniprot.org/citations/> .\n",
    "@prefix dcterms: <http://purl.org/dc/terms/> .\n",
    "@prefix disease: <http://purl.uniprot.org/diseases/> .\n",
    "@prefix ECO: <http://purl.obolibrary.org/obo/ECO_> .\n",
    "@prefix enzyme: <http://purl.uniprot.org/enzyme/> .\n",
    "@prefix faldo: <http://biohackathon.org/resource/faldo#> .\n",
    "@prefix foaf: <http://xmlns.com/foaf/0.1/> .\n",
    "@prefix go: <http://purl.obolibrary.org/obo/GO_> .\n",
    "@prefix isoform: <http://purl.uniprot.org/isoforms/> .\n",
    "@prefix keyword: <http://purl.uniprot.org/keywords/> .\n",
    "@prefix location: <http://purl.uniprot.org/locations/> .\n",
    "@prefix owl: <http://www.w3.org/2002/07/owl#> .\n",
    "@prefix position: <http://purl.uniprot.org/position/> .\n",
    "@prefix pubmed: <http://purl.uniprot.org/pubmed/> .\n",
    "@prefix range: <http://purl.uniprot.org/range/> .\n",
    "@prefix rdf: <http://www.w3.org/1999/02/22-rdf-syntax-ns#> .\n",
    "@prefix rdfs: <http://www.w3.org/2000/01/rdf-schema#> .\n",
    "@prefix skos: <http://www.w3.org/2004/02/skos/core#> .\n",
    "@prefix taxon: <http://purl.uniprot.org/taxonomy/> .\n",
    "@prefix tissue: <http://purl.uniprot.org/tissues/> .\n",
    "@prefix up: <http://purl.uniprot.org/core/> .\n",
    "@prefix xsd: <http://www.w3.org/2001/XMLSchema#> .\n",
    "<P06239> rdf:type up:Protein ;\n",
    "  up:reviewed true ;\n",
    "  up:created \"1988-01-01\"^^xsd:date ;\n",
    "  up:modified \"2018-02-28\"^^xsd:date ;\n",
    "  up:version 239 ;\n",
    "  up:mnemonic \"LCK_HUMAN\" ;\n",
    "  up:annotation <P06239#SIP02543850A4A84B97> , annotation:VAR_071291 .\n",
    "<P06239#SIP02543850A4A84B97> rdf:type up:Disease_Annotation ;\n",
    "  rdfs:comment \"The disease is caused by mutations affecting the gene represented in this entry.\" ;\n",
    "  up:disease disease:4079 .\n",
    "annotation:VAR_071291 rdf:type up:Natural_Variant_Annotation ;\n",
    "  rdfs:comment \"In IMD22.\" ;\n",
    "  up:substitution \"P\" ;\n",
    "  rdfs:seeAlso <http://purl.uniprot.org/dbsnp/rs587777335> ;\n",
    "  skos:related disease:4079 ;\n",
    "  up:range range:22571007465437486tt341tt341 . \n",
    "disease:4079 rdf:type up:Disease ;\n",
    "  skos:prefLabel \"Immunodeficiency 22\" ;\n",
    "  up:mnemonic \"IMD22\" ;\n",
    "  rdfs:comment \"A primary immunodeficiency characterized by T-cell dysfunction. Affected individuals present with lymphopenia, recurrent infections, severe diarrhea, and failure to thrive.\" ;\n",
    "   rdfs:seeAlso <http://purl.uniprot.org/mim/615758> ,\n",
    "    <http://purl.uniprot.org/medgen/CN186319> ,\n",
    "    <http://id.nlm.nih.gov/mesh/D007153> .\n",
    "\n",
    "range:22571007465437486tt341tt341 rdf:type faldo:Region ;\n",
    "  faldo:begin position:22571007465437486tt341 ;\n",
    "  faldo:end position:22571007465437486tt341 .\n",
    "position:22571007465437486tt341 rdf:type faldo:Position ,\n",
    "    faldo:ExactPosition ;\n",
    "  faldo:position 341 .\n",
    "\n",
    "  \"\"\"\n",
    "\n",
    "P06239=Graph().parse(format='ttl',\n",
    "                     data=P06239ttl)\n",
    "\n",
    "qres=P06239.query(\"\"\"\n",
    "PREFIX up: <http://purl.uniprot.org/core/> \n",
    "PREFIX faldo: <http://biohackathon.org/resource/faldo#>\n",
    "PREFIX skos: <http://www.w3.org/2004/02/skos/core#>\n",
    "SELECT \n",
    "    ?protein \n",
    "    ?disease\n",
    "    ?diseaseAnnotation\n",
    "    ?diseaseName    \n",
    "WHERE {\n",
    "    ?protein up:annotation ?diseaseAnnotation .\n",
    "    ?diseaseAnnotation up:disease ?disease .\n",
    "    ?disease skos:prefLabel ?diseaseName .\n",
    "} \n",
    "\"\"\")\n",
    "\n",
    "for row in qres:\n",
    "    print(\"%s is a protein record related to %s via annotation %s named %s\" % row)\n",
    "\n"
   ]
  },
  {
   "cell_type": "markdown",
   "metadata": {},
   "source": [
    "# Combining databases!"
   ]
  },
  {
   "cell_type": "code",
   "execution_count": 22,
   "metadata": {},
   "outputs": [
    {
     "name": "stdout",
     "output_type": "stream",
     "text": [
      "http://purl.obolibrary.org/obo/CHEBI_58442http://rdf.rhea-db.org/27962myo-inositol + pyrroloquinoline quinone = H(+) + pyrroloquinoline quinol + scyllo-inosose\n",
      "http://purl.obolibrary.org/obo/CHEBI_58442http://rdf.rhea-db.org/31247H(+) + prop-2-ynal + pyrroloquinoline quinol = prop-2-yn-1-ol + pyrroloquinoline quinone\n",
      "http://purl.obolibrary.org/obo/CHEBI_58442http://rdf.rhea-db.org/31263but-3-ynal + H(+) + pyrroloquinoline quinol = but-3-yn-1-ol + pyrroloquinoline quinone\n",
      "http://purl.obolibrary.org/obo/CHEBI_58442http://rdf.rhea-db.org/106926-(2-amino-2-carboxyethyl)-7,8-dioxo-1,2,3,4,7,8-hexahydroquinoline-2,4-dicarboxylate + 3 O2 = H(+) + 2 H2O + 2 H2O2 + pyrroloquinoline quinone\n"
     ]
    }
   ],
   "source": [
    "q=\"\"\"\n",
    "PREFIX rh:<http://rdf.rhea-db.org/>\n",
    "PREFIX ch:<http://purl.obolibrary.org/obo/>\n",
    "PREFIX up:<http://purl.uniprot.org/core/>\n",
    "PREFIX uniprotkb:<http://purl.uniprot.org/uniprot/>\n",
    "SELECT ?chebi\n",
    "       ?reaction\n",
    "       ?equation\n",
    "WHERE {\n",
    "  SERVICE <http://sparql.uniprot.org/sparql> {\n",
    "    \t?protein up:reviewed true .\n",
    "        ?protein up:annotation ?a .\n",
    "        ?a a up:Cofactor_Annotation .\n",
    "        ?a up:cofactor ?chebi .\n",
    "        VALUES (?protein) {(uniprotkb:P15877)} .\n",
    "   }\n",
    "  ?reaction rdfs:subClassOf rh:Reaction .\n",
    "  ?reaction rh:status rh:Approved .\n",
    "  ?reaction rh:equation ?equation .\n",
    "  ?reaction rh:side ?reactionSide .\n",
    "  ?reactionSide rh:contains ?participant .\n",
    "  ?participant rh:compound ?compound .\n",
    "  ?compound rh:chebi ?chebi .\n",
    "}\n",
    "order by ?chebi\n",
    "\"\"\"\n",
    "\n",
    "sparql=SPARQLWrapper('http://sparql.rhea-db.org/sparql')\n",
    "sparql.setQuery(q)\n",
    "sparql.setReturnFormat(JSON)\n",
    "results = sparql.query().convert()\n",
    "\n",
    "for result in results[\"results\"][\"bindings\"]:\n",
    "    print(result[\"chebi\"][\"value\"] + result[\"reaction\"][\"value\"] + result[\"equation\"][\"value\"])"
   ]
  },
  {
   "cell_type": "markdown",
   "metadata": {},
   "source": [
    "The real value in SPARQL is not that you can query one database, but that you can query many databases as if they where one on your demand."
   ]
  }
 ],
 "metadata": {
  "kernelspec": {
   "display_name": "Python 3",
   "language": "python",
   "name": "python3"
  },
  "language_info": {
   "codemirror_mode": {
    "name": "ipython",
    "version": 2
   },
   "file_extension": ".py",
   "mimetype": "text/x-python",
   "name": "python",
   "nbconvert_exporter": "python",
   "pygments_lexer": "ipython2",
   "version": "2.7.12"
  }
 },
 "nbformat": 4,
 "nbformat_minor": 4
}
