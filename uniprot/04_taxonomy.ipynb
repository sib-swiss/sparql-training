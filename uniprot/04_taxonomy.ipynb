{
 "cells": [
  {
   "cell_type": "markdown",
   "metadata": {
    "toc": true
   },
   "source": [
    "<h1>Table of Contents<span class=\"tocSkip\"></span></h1>\n",
    "<div class=\"toc\"><ul class=\"toc-item\"><li><span><a href=\"#Taxonomy\" data-toc-modified-id=\"Taxonomy-1\">Taxonomy</a></span></li><li><span><a href=\"#Import-Python-package\" data-toc-modified-id=\"Import-Python-package-2\">Import Python package</a></span><ul class=\"toc-item\"><li><span><a href=\"#Organism-identifier\" data-toc-modified-id=\"Organism-identifier-2.1\">Organism identifier</a></span></li><li><span><a href=\"#Retrieve-the-taxon-(organism-id)-of-a-protein\" data-toc-modified-id=\"Retrieve-the-taxon-(organism-id)-of-a-protein-2.2\">Retrieve the taxon (organism id) of a protein</a></span></li><li><span><a href=\"#Taxonomy-data\" data-toc-modified-id=\"Taxonomy-data-2.3\">Taxonomy data</a></span><ul class=\"toc-item\"><li><span><a href=\"#Retrieve-the-rank-and-the-scientific-name-of-the-organism\" data-toc-modified-id=\"Retrieve-the-rank-and-the-scientific-name-of-the-organism-2.3.1\">Retrieve the rank and the scientific name of the organism</a></span></li></ul></li><li><span><a href=\"#Taxonomy-hierarchy\" data-toc-modified-id=\"Taxonomy-hierarchy-2.4\">Taxonomy hierarchy</a></span></li><li><span><a href=\"#Host-organisms\" data-toc-modified-id=\"Host-organisms-2.5\">Host organisms</a></span></li></ul></li><li><span><a href=\"#How-to-retrieve-all-UniProt-entries-for-a-given-organism-?\" data-toc-modified-id=\"How-to-retrieve-all-UniProt-entries-for-a-given-organism-?-3\"><span style=\"color: red\">How to retrieve all UniProt entries for a given organism ?</span></a></span></li><li><span><a href=\"#How-to-retrieve-the-lineage-of-an-organism-?\" data-toc-modified-id=\"How-to-retrieve-the-lineage-of-an-organism-?-4\"><span style=\"color: red\">How to retrieve the lineage of an organism ?</span></a></span></li><li><span><a href=\"#How-to-retrieve-all-organisms-with-at-least-one-entry-in-UniProtKB/Swiss-Prot-?\" data-toc-modified-id=\"How-to-retrieve-all-organisms-with-at-least-one-entry-in-UniProtKB/Swiss-Prot-?-5\"><span style=\"color: red\">How to retrieve all organisms with at least one entry in UniProtKB/Swiss-Prot ?</span></a></span></li></ul></div>"
   ]
  },
  {
   "cell_type": "markdown",
   "metadata": {},
   "source": [
    "# Taxonomy\n",
    "\n",
    "This notebook aims to show you how taxonomy data are represented in UniProt.  \n",
    "\n",
    "UniProtKB taxonomy data is manually curated (see details [here](https://www.uniprot.org/taxonomy/)).\n",
    "\n",
    "\n",
    "The organism which is the source of a protein sequence is identified by a unique identifier (often called _taxon_ or _taxid_) from the [NCBI taxonomy](https://www.ncbi.nlm.nih.gov/taxonomy) database.   \n",
    "This is the only taxonomy information that is stored in the RDF format of a UniProtKB entry. However, the full NCBI taxonomy is modelled and available as well.   "
   ]
  },
  {
   "cell_type": "markdown",
   "metadata": {},
   "source": [
    "# Import Python package\n",
    "\n",
    "First we import rdflib which is a well known python library that gives RDF and its query language support to Python 3 (and Python 2).  \n"
   ]
  },
  {
   "cell_type": "code",
   "execution_count": 12,
   "metadata": {},
   "outputs": [],
   "source": [
    "from rdflib import Graph\n",
    "from SPARQLWrapper import SPARQLWrapper, JSON"
   ]
  },
  {
   "cell_type": "markdown",
   "metadata": {},
   "source": [
    "## Organism identifier\n",
    "\n",
    "The organism identifier (taxon) is stored in the `organism` property of a uniprot entry.  "
   ]
  },
  {
   "cell_type": "code",
   "execution_count": 13,
   "metadata": {},
   "outputs": [
    {
     "name": "stdout",
     "output_type": "stream",
     "text": [
      "http://purl.uniprot.org/uniprot/P05067 http://purl.uniprot.org/core/organism http://purl.uniprot.org/taxonomy/9606\n",
      "http://purl.uniprot.org/uniprot/P05067 http://www.w3.org/1999/02/22-rdf-syntax-ns#type http://purl.uniprot.org/core/Protein\n"
     ]
    }
   ],
   "source": [
    "P05067ttl = \"\"\"base <http://purl.uniprot.org/uniprot/>  \n",
    "prefix up: <http://purl.uniprot.org/core/>\n",
    "prefix taxon: <http://purl.uniprot.org/taxonomy/>\n",
    "\n",
    "<P05067> a up:Protein ;\n",
    "         up:organism taxon:9606 .\n",
    "\"\"\"\n",
    "\n",
    "P05067=Graph().parse(format='ttl', data=P05067ttl)\n",
    "\n",
    "for subj, pred, obj in P05067:\n",
    "   print(subj, pred, obj)\n"
   ]
  },
  {
   "cell_type": "markdown",
   "metadata": {},
   "source": [
    "## Retrieve the taxon (organism id) of a protein"
   ]
  },
  {
   "cell_type": "code",
   "execution_count": 14,
   "metadata": {},
   "outputs": [
    {
     "name": "stdout",
     "output_type": "stream",
     "text": [
      "The taxon (organism id) of http://purl.uniprot.org/uniprot/P05067 is http://purl.uniprot.org/taxonomy/9606\n"
     ]
    }
   ],
   "source": [
    "qres=P05067.query(\"\"\"\n",
    "PREFIX up: <http://purl.uniprot.org/core/> \n",
    "PREFIX uniprotkb: <http://purl.uniprot.org/uniprot/>\n",
    "PREFIX skos: <http://www.w3.org/2004/02/skos/core#>\n",
    "\n",
    "SELECT ?protein ?taxon\n",
    "WHERE {\n",
    "  ?protein a up:Protein ;\n",
    "           up:organism ?taxon .\n",
    "}\"\"\")\n",
    "\n",
    "for row in qres:\n",
    "    print(\"The taxon (organism id) of %s is %s\" % row)"
   ]
  },
  {
   "cell_type": "markdown",
   "metadata": {},
   "source": [
    "## Taxonomy data\n",
    "\n",
    "**Properties**:\n",
    "- `rank`  \n",
    "- `mnemonic`  \n",
    "- `scientificName`  \n",
    "- `commonName`  \n",
    "- `otherName`  \n",
    "- `seeAlso` (xref)  \n",
    "- `subClassOf` (hierarchy)   \n",
    "- <span style=\"color:red\">narrowerTransitive</span>  \n",
    "- <span style=\"color:red\">partOfLineage</span>  "
   ]
  },
  {
   "cell_type": "code",
   "execution_count": 15,
   "metadata": {},
   "outputs": [],
   "source": [
    "# Description of the taxon:9606 (Homo sapiens)\n",
    "taxon=Graph().parse(format='ttl',\n",
    "                 data=\"\"\"\n",
    "base <http://purl.uniprot.org/taxonomy/> \n",
    "prefix up: <http://purl.uniprot.org/core/> \n",
    "prefix foaf: <http://xmlns.com/foaf/0.1/> \n",
    "prefix owl: <http://www.w3.org/2002/07/owl#> \n",
    "prefix rdf: <http://www.w3.org/1999/02/22-rdf-syntax-ns#> \n",
    "prefix rdfs: <http://www.w3.org/2000/01/rdf-schema#> \n",
    "prefix skos: <http://www.w3.org/2004/02/skos/core#> \n",
    "prefix xsd: <http://www.w3.org/2001/XMLSchema#> \n",
    "\n",
    "<9606> a up:Taxon ;\n",
    "       up:rank up:Species ;\n",
    "       up:mnemonic \"HUMAN\" ;\n",
    "       up:scientificName \"Homo sapiens\" ;\n",
    "       up:commonName \"Human\" ;\n",
    "       up:otherName \"Home sapiens\" ,\n",
    "                    \"Homo sapiens Linnaeus, 1758\" ,\n",
    "                    \"man\" ;\n",
    "       rdfs:seeAlso <http://animaldiversity.org/site/accounts/information/Homo_sapiens.html> ,\n",
    "                    <http://archaeologyinfo.com/homo-sapiens/> ,\n",
    "                    <http://www.ensembl.org/Homo_sapiens/Info/Index> ,\n",
    "                    <https://www.sciencedaily.com/releases/2005/02/050223122209.htm> ;\n",
    "       rdfs:subClassOf <9605> ;\n",
    "       skos:narrowerTransitive <63221> ,\n",
    "                               <741158> ;\n",
    "       up:partOfLineage false .\n",
    "\n",
    "<9605> a up:Taxon ;\n",
    "       up:rank up:Genus ;\n",
    "       up:scientificName \"Homo\" ;\n",
    "       up:otherName \"Homo Linnaeus, 1758\" ,\n",
    "                    \"humans\" ;\n",
    "       rdfs:subClassOf <207598> ;\n",
    "       skos:narrowerTransitive <9606> ,\n",
    "                               <1425170> ,\n",
    "                               <2665952> ;\n",
    "       up:partOfLineage true .\n",
    "\"\"\")"
   ]
  },
  {
   "cell_type": "markdown",
   "metadata": {},
   "source": [
    "### Retrieve the rank and the scientific name of the organism\n",
    "\n",
    "The rank and scientificName are by far the most queried properties of a taxon."
   ]
  },
  {
   "cell_type": "code",
   "execution_count": 16,
   "metadata": {},
   "outputs": [
    {
     "name": "stdout",
     "output_type": "stream",
     "text": [
      "Taxon \"http://purl.uniprot.org/taxonomy/9606\", rank = \"http://purl.uniprot.org/core/Species\", scientificName = \"Homo sapiens\"\n",
      "Taxon \"http://purl.uniprot.org/taxonomy/9605\", rank = \"http://purl.uniprot.org/core/Genus\", scientificName = \"Homo\"\n"
     ]
    }
   ],
   "source": [
    "qres=taxon.query(\"\"\"PREFIX up: <http://purl.uniprot.org/core/> \n",
    "SELECT ?taxon \n",
    "       ?rank\n",
    "       ?scientificName\n",
    "WHERE {\n",
    "  ?taxon a up:Taxon ;\n",
    "         up:rank ?rank ;\n",
    "         up:scientificName ?scientificName .\n",
    "}\"\"\")\n",
    "\n",
    "for row in qres:\n",
    "    print('Taxon \"%s\", rank = \"%s\", scientificName = \"%s\"' % row)"
   ]
  },
  {
   "cell_type": "markdown",
   "metadata": {},
   "source": [
    "## Taxonomy hierarchy\n",
    "\n",
    "Querying the taxonomic hierarchy is straightforward using the `rdfs:subClassOf` property.  \n",
    "In our _taxon_ example shown previously:  \n",
    "<9605> rdfs:subClassOf <9606>  \n",
    "<9606> rdfs:subClassOf <207598>  \n",
    "\n",
    "In order to facilitate the search, the UniProt SPARQL endpoint materialized all relationships. In other words, you don't need to use SPARQL property path to query the taxonomy classification.  \n",
    "Note that if you use other endpoints you might need to use `rdfs:subClassOf+` to query by higher levels of taxonomy.\n"
   ]
  },
  {
   "cell_type": "code",
   "execution_count": 17,
   "metadata": {},
   "outputs": [
    {
     "name": "stdout",
     "output_type": "stream",
     "text": [
      "http://purl.uniprot.org/taxonomy/9606 is part of the genus http://purl.uniprot.org/taxonomy/9605\n"
     ]
    }
   ],
   "source": [
    "qres=taxon.query(\"\"\"\n",
    "PREFIX up: <http://purl.uniprot.org/core/> \n",
    "PREFIX uniprotkb: <http://purl.uniprot.org/uniprot/>\n",
    "PREFIX skos: <http://www.w3.org/2004/02/skos/core#>\n",
    "\n",
    "SELECT ?species ?genus \n",
    "WHERE {\n",
    "  ?species a up:Taxon ;\n",
    "           up:rank up:Species ;\n",
    "           rdfs:subClassOf ?genus .\n",
    "  ?genus a up:Taxon ;\n",
    "         up:rank up:Genus .\n",
    "}\"\"\")\n",
    "\n",
    "for row in qres:\n",
    "    print(\"%s is part of the genus %s\" % row)"
   ]
  },
  {
   "cell_type": "markdown",
   "metadata": {},
   "source": [
    "## Host organisms\n",
    "\n",
    "Sometimes an organism is known to be hosted inside an other one (_e.g._ parasite, symbiont, infection).   \n",
    "We defined the `host` property to link an organism to its host.  "
   ]
  },
  {
   "cell_type": "code",
   "execution_count": 18,
   "metadata": {},
   "outputs": [],
   "source": [
    "host=Graph().parse(format='ttl',\n",
    "                 data=\"\"\"\n",
    "base <http://purl.uniprot.org/taxonomy/> \n",
    "prefix up: <http://purl.uniprot.org/core/> \n",
    "<1241371> a up:Taxon ;\n",
    "          up:mnemonic \"ABHV\" ;\n",
    "          up:host <6451> .\n",
    "\"\"\")"
   ]
  },
  {
   "cell_type": "code",
   "execution_count": 19,
   "metadata": {},
   "outputs": [
    {
     "name": "stdout",
     "output_type": "stream",
     "text": [
      "http://purl.uniprot.org/taxonomy/1241371 hosted by http://purl.uniprot.org/taxonomy/6451\n"
     ]
    }
   ],
   "source": [
    "qres=host.query(\"\"\"\n",
    "PREFIX up: <http://purl.uniprot.org/core/> \n",
    "PREFIX uniprotkb: <http://purl.uniprot.org/uniprot/>\n",
    "PREFIX skos: <http://www.w3.org/2004/02/skos/core#>\n",
    "\n",
    "SELECT \n",
    "    ?virus ?host \n",
    "WHERE {\n",
    "    ?virus up:host ?host .\n",
    "}\"\"\")\n",
    "\n",
    "for row in qres:\n",
    "    print(\"%s hosted by %s\" % row)"
   ]
  },
  {
   "cell_type": "markdown",
   "metadata": {},
   "source": [
    "# <span style=\"color:red\">How to retrieve all UniProt entries for a given organism ?</span>"
   ]
  },
  {
   "cell_type": "markdown",
   "metadata": {},
   "source": [
    "# <span style=\"color:red\">How to retrieve the lineage of an organism ?</span>"
   ]
  },
  {
   "cell_type": "markdown",
   "metadata": {},
   "source": [
    "# <span style=\"color:red\">How to retrieve all organisms with at least one entry in UniProtKB/Swiss-Prot ?</span>"
   ]
  },
  {
   "cell_type": "code",
   "execution_count": 23,
   "metadata": {},
   "outputs": [
    {
     "name": "stdout",
     "output_type": "stream",
     "text": [
      "{'head': {'vars': ['taxid', 'scientificName', 'domain', 'domainName']}, 'results': {'bindings': [{'scientificName': {'type': 'literal', 'value': 'Neisseria meningitidis serogroup B (strain MC58)'}, 'taxid': {'type': 'uri', 'value': 'http://purl.uniprot.org/taxonomy/122586'}, 'domain': {'type': 'uri', 'value': 'http://purl.uniprot.org/taxonomy/2'}}, {'scientificName': {'type': 'literal', 'value': 'Streptococcus thermophilus (strain ATCC BAA-250 / LMG 18311)'}, 'taxid': {'type': 'uri', 'value': 'http://purl.uniprot.org/taxonomy/264199'}, 'domain': {'type': 'uri', 'value': 'http://purl.uniprot.org/taxonomy/2'}}, {'scientificName': {'type': 'literal', 'value': 'Streptococcus thermophilus (strain CNRZ 1066)'}, 'taxid': {'type': 'uri', 'value': 'http://purl.uniprot.org/taxonomy/299768'}, 'domain': {'type': 'uri', 'value': 'http://purl.uniprot.org/taxonomy/2'}}]}}\n"
     ]
    }
   ],
   "source": [
    "query3 = \"\"\"PREFIX taxon:<http://purl.uniprot.org/taxonomy/>\n",
    "PREFIX up:<http://purl.uniprot.org/core/> \n",
    "\n",
    "SELECT distinct ?taxid\n",
    "                ?scientificName\n",
    "                ?domain\n",
    "                ?domainName\n",
    "WHERE {\n",
    "  # reviewed entries\n",
    "  ?uniprot up:reviewed true .\n",
    "  # taxid\n",
    "  ?uniprot up:organism ?taxid . \n",
    "  ?taxid up:scientificName ?scientificName .\n",
    "    \n",
    "  VALUES ?domain { taxon:2 # bacteria\n",
    "                   taxon:2157 # archaea\n",
    "                   taxon:2759 # eukaryota\n",
    "                   taxon:10239 #viruses\n",
    "                 } .\n",
    "  ?taxid rdfs:subClassOf ?domain .\n",
    "}\n",
    "LIMIT 3\n",
    "\"\"\" \n",
    "\n",
    "# Set the SPARQL endpoint to use\n",
    "sparql=SPARQLWrapper(\"https://sparql.uniprot.org/sparql/\")\n",
    "# Set the SPARQL query.\n",
    "sparql.setQuery(query3)\n",
    "# Set the output format to JSON\n",
    "sparql.setReturnFormat(JSON)\n",
    "# Run the query and save the result in res\n",
    "res = sparql.query().convert()\n",
    "# Parse (JSON format) and print the query result \n",
    "print(res)"
   ]
  },
  {
   "cell_type": "code",
   "execution_count": 21,
   "metadata": {},
   "outputs": [],
   "source": [
    "import pandas as pd\n",
    "from pandas import json_normalize\n",
    "\n",
    "def query_sparql(sparqlQuery, sparql_service_url):\n",
    "    \"\"\"\n",
    "    Query a SPARQL endpoint with a given query string and return the results as a pandas Dataframe.\n",
    "    \"\"\"\n",
    "    sparql=SPARQLWrapper(sparql_service_url)\n",
    "    \n",
    "    # set timeout to 162000 seconds = 45 min\n",
    "    sparql.setTimeout(162000)\n",
    "    \n",
    "    # set SPARQL query\n",
    "    sparql.setQuery(sparqlQuery)\n",
    "    \n",
    "    # set return format as JSON\n",
    "    sparql.setReturnFormat(JSON)\n",
    "    \n",
    "    # run the SPARQL query\n",
    "    res = sparql.query().convert()\n",
    "    # convert the JSON result in pandas dataframe\n",
    "    res_sparql_df = json_normalize(res[\"results\"][\"bindings\"])\n",
    "    \n",
    "    # distinguish .type and .value\n",
    "    col_type = [c for c in res_sparql_df.columns.tolist() if \".type\" in c]\n",
    "    col_value = [c for c in res_sparql_df.columns.tolist() if \".value\" in c]\n",
    "    col_datatype = [c for c in res_sparql_df.columns.tolist() if \".datatype\" in c]\n",
    "    \n",
    "    # Remove prefix part from URI\n",
    "    #for i in range(0,len(col_type)):\n",
    "    #    if 'uri' in res_sparql_df[col_type[i]].unique().tolist() :\n",
    "    #        #tdf[col_value[i]] = tdf[col_value[i]].fillna(\"\")\n",
    "    #        res_sparql_df[col_value[i]] = res_sparql_df[col_value[i]].str.split(pat='/').str.get(-1)\n",
    "\n",
    "    # Remove .type columns\n",
    "    res_sparql_df.drop(col_type,axis=1,inplace=True)\n",
    "    # Remove .datatype columns\n",
    "    res_sparql_df.drop(col_datatype,axis=1,inplace=True)\n",
    "    \n",
    "    # Remove \".value\" from column names\n",
    "    res_sparql_df = res_sparql_df.rename(columns = lambda col: col.replace(\".value\", \"\"))\n",
    "    \n",
    "    return res_sparql_df"
   ]
  },
  {
   "cell_type": "code",
   "execution_count": 24,
   "metadata": {},
   "outputs": [
    {
     "data": {
      "text/html": [
       "<div>\n",
       "<style scoped>\n",
       "    .dataframe tbody tr th:only-of-type {\n",
       "        vertical-align: middle;\n",
       "    }\n",
       "\n",
       "    .dataframe tbody tr th {\n",
       "        vertical-align: top;\n",
       "    }\n",
       "\n",
       "    .dataframe thead th {\n",
       "        text-align: right;\n",
       "    }\n",
       "</style>\n",
       "<table border=\"1\" class=\"dataframe\">\n",
       "  <thead>\n",
       "    <tr style=\"text-align: right;\">\n",
       "      <th></th>\n",
       "      <th>scientificName</th>\n",
       "      <th>taxid</th>\n",
       "      <th>domain</th>\n",
       "    </tr>\n",
       "  </thead>\n",
       "  <tbody>\n",
       "    <tr>\n",
       "      <th>0</th>\n",
       "      <td>Neisseria meningitidis serogroup B (strain MC58)</td>\n",
       "      <td>http://purl.uniprot.org/taxonomy/122586</td>\n",
       "      <td>http://purl.uniprot.org/taxonomy/2</td>\n",
       "    </tr>\n",
       "    <tr>\n",
       "      <th>1</th>\n",
       "      <td>Streptococcus thermophilus (strain ATCC BAA-25...</td>\n",
       "      <td>http://purl.uniprot.org/taxonomy/264199</td>\n",
       "      <td>http://purl.uniprot.org/taxonomy/2</td>\n",
       "    </tr>\n",
       "    <tr>\n",
       "      <th>2</th>\n",
       "      <td>Streptococcus thermophilus (strain CNRZ 1066)</td>\n",
       "      <td>http://purl.uniprot.org/taxonomy/299768</td>\n",
       "      <td>http://purl.uniprot.org/taxonomy/2</td>\n",
       "    </tr>\n",
       "    <tr>\n",
       "      <th>3</th>\n",
       "      <td>Streptococcus thermophilus (strain ATCC BAA-49...</td>\n",
       "      <td>http://purl.uniprot.org/taxonomy/322159</td>\n",
       "      <td>http://purl.uniprot.org/taxonomy/2</td>\n",
       "    </tr>\n",
       "    <tr>\n",
       "      <th>4</th>\n",
       "      <td>Acholeplasma laidlawii</td>\n",
       "      <td>http://purl.uniprot.org/taxonomy/2148</td>\n",
       "      <td>http://purl.uniprot.org/taxonomy/2</td>\n",
       "    </tr>\n",
       "    <tr>\n",
       "      <th>...</th>\n",
       "      <td>...</td>\n",
       "      <td>...</td>\n",
       "      <td>...</td>\n",
       "    </tr>\n",
       "    <tr>\n",
       "      <th>14009</th>\n",
       "      <td>Hepatitis C virus (isolate TH)</td>\n",
       "      <td>http://purl.uniprot.org/taxonomy/11117</td>\n",
       "      <td>http://purl.uniprot.org/taxonomy/10239</td>\n",
       "    </tr>\n",
       "    <tr>\n",
       "      <th>14010</th>\n",
       "      <td>Influenza B virus (strain B/Leningrad/179/1986)</td>\n",
       "      <td>http://purl.uniprot.org/taxonomy/11536</td>\n",
       "      <td>http://purl.uniprot.org/taxonomy/10239</td>\n",
       "    </tr>\n",
       "    <tr>\n",
       "      <th>14011</th>\n",
       "      <td>Feline leukemia virus (isolate CFE-6)</td>\n",
       "      <td>http://purl.uniprot.org/taxonomy/11922</td>\n",
       "      <td>http://purl.uniprot.org/taxonomy/10239</td>\n",
       "    </tr>\n",
       "    <tr>\n",
       "      <th>14012</th>\n",
       "      <td>Tomato black ring virus (strain C)</td>\n",
       "      <td>http://purl.uniprot.org/taxonomy/12276</td>\n",
       "      <td>http://purl.uniprot.org/taxonomy/10239</td>\n",
       "    </tr>\n",
       "    <tr>\n",
       "      <th>14013</th>\n",
       "      <td>Influenza A virus (strain A/Equine/Sao Paulo/1...</td>\n",
       "      <td>http://purl.uniprot.org/taxonomy/217828</td>\n",
       "      <td>http://purl.uniprot.org/taxonomy/10239</td>\n",
       "    </tr>\n",
       "  </tbody>\n",
       "</table>\n",
       "<p>14014 rows × 3 columns</p>\n",
       "</div>"
      ],
      "text/plain": [
       "                                          scientificName  \\\n",
       "0       Neisseria meningitidis serogroup B (strain MC58)   \n",
       "1      Streptococcus thermophilus (strain ATCC BAA-25...   \n",
       "2          Streptococcus thermophilus (strain CNRZ 1066)   \n",
       "3      Streptococcus thermophilus (strain ATCC BAA-49...   \n",
       "4                                 Acholeplasma laidlawii   \n",
       "...                                                  ...   \n",
       "14009                     Hepatitis C virus (isolate TH)   \n",
       "14010    Influenza B virus (strain B/Leningrad/179/1986)   \n",
       "14011              Feline leukemia virus (isolate CFE-6)   \n",
       "14012                 Tomato black ring virus (strain C)   \n",
       "14013  Influenza A virus (strain A/Equine/Sao Paulo/1...   \n",
       "\n",
       "                                         taxid  \\\n",
       "0      http://purl.uniprot.org/taxonomy/122586   \n",
       "1      http://purl.uniprot.org/taxonomy/264199   \n",
       "2      http://purl.uniprot.org/taxonomy/299768   \n",
       "3      http://purl.uniprot.org/taxonomy/322159   \n",
       "4        http://purl.uniprot.org/taxonomy/2148   \n",
       "...                                        ...   \n",
       "14009   http://purl.uniprot.org/taxonomy/11117   \n",
       "14010   http://purl.uniprot.org/taxonomy/11536   \n",
       "14011   http://purl.uniprot.org/taxonomy/11922   \n",
       "14012   http://purl.uniprot.org/taxonomy/12276   \n",
       "14013  http://purl.uniprot.org/taxonomy/217828   \n",
       "\n",
       "                                       domain  \n",
       "0          http://purl.uniprot.org/taxonomy/2  \n",
       "1          http://purl.uniprot.org/taxonomy/2  \n",
       "2          http://purl.uniprot.org/taxonomy/2  \n",
       "3          http://purl.uniprot.org/taxonomy/2  \n",
       "4          http://purl.uniprot.org/taxonomy/2  \n",
       "...                                       ...  \n",
       "14009  http://purl.uniprot.org/taxonomy/10239  \n",
       "14010  http://purl.uniprot.org/taxonomy/10239  \n",
       "14011  http://purl.uniprot.org/taxonomy/10239  \n",
       "14012  http://purl.uniprot.org/taxonomy/10239  \n",
       "14013  http://purl.uniprot.org/taxonomy/10239  \n",
       "\n",
       "[14014 rows x 3 columns]"
      ]
     },
     "execution_count": 24,
     "metadata": {},
     "output_type": "execute_result"
    }
   ],
   "source": [
    "query = \"\"\"PREFIX taxon:<http://purl.uniprot.org/taxonomy/>\n",
    "PREFIX up:<http://purl.uniprot.org/core/> \n",
    "\n",
    "SELECT distinct ?taxid\n",
    "                ?scientificName\n",
    "                ?domain\n",
    "                ?domainName\n",
    "WHERE {\n",
    "  # reviewed entries\n",
    "  ?uniprot up:reviewed true .\n",
    "  # taxid\n",
    "  ?uniprot up:organism ?taxid . \n",
    "  ?taxid up:scientificName ?scientificName .\n",
    "    \n",
    "  VALUES ?domain { taxon:2 # bacteria\n",
    "                   taxon:2157 # archaea\n",
    "                   taxon:2759 # eukaryota\n",
    "                   taxon:10239 #viruses\n",
    "                 } .\n",
    "  ?taxid rdfs:subClassOf ?domain .\n",
    "}\n",
    "\"\"\" \n",
    "\n",
    "query_sparql(query,\"https://sparql.uniprot.org/sparql/\")"
   ]
  },
  {
   "cell_type": "code",
   "execution_count": null,
   "metadata": {},
   "outputs": [],
   "source": []
  }
 ],
 "metadata": {
  "hide_input": false,
  "kernelspec": {
   "display_name": "Python 3 (system-wide)",
   "language": "python",
   "name": "python3"
  },
  "language_info": {
   "codemirror_mode": {
    "name": "ipython",
    "version": 3
   },
   "file_extension": ".py",
   "mimetype": "text/x-python",
   "name": "python",
   "nbconvert_exporter": "python",
   "pygments_lexer": "ipython3",
   "version": "3.8.5"
  },
  "toc": {
   "base_numbering": 1,
   "nav_menu": {},
   "number_sections": false,
   "sideBar": true,
   "skip_h1_title": false,
   "title_cell": "Table of Contents",
   "title_sidebar": "Contents",
   "toc_cell": true,
   "toc_position": {},
   "toc_section_display": true,
   "toc_window_display": false
  }
 },
 "nbformat": 4,
 "nbformat_minor": 4
}
