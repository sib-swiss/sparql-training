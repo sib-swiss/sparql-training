{
 "cells": [
  {
   "cell_type": "markdown",
   "metadata": {
    "toc": true
   },
   "source": [
    "<h1>Table of Contents<span class=\"tocSkip\"></span></h1>\n",
    "<div class=\"toc\"><ul class=\"toc-item\"><li><span><a href=\"#Question4Jerven\" data-toc-modified-id=\"Question4Jerven-1\">Question4Jerven</a></span></li><li><span><a href=\"#Replicon-and-genes\" data-toc-modified-id=\"Replicon-and-genes-2\">Replicon and genes</a></span></li><li><span><a href=\"#Required-Python-libraries\" data-toc-modified-id=\"Required-Python-libraries-3\">Required Python libraries</a></span></li><li><span><a href=\"#Gene-Names\" data-toc-modified-id=\"Gene-Names-4\">Gene Names</a></span><ul class=\"toc-item\"><li><ul class=\"toc-item\"><li><span><a href=\"#Selecting-encoding-genes\" data-toc-modified-id=\"Selecting-encoding-genes-4.0.1\">Selecting encoding genes</a></span></li><li><span><a href=\"#Selecting-the-recommended-gene-names\" data-toc-modified-id=\"Selecting-the-recommended-gene-names-4.0.2\">Selecting the recommended gene names</a></span></li><li><span><a href=\"#Selecting-alternative-gene-names\" data-toc-modified-id=\"Selecting-alternative-gene-names-4.0.3\">Selecting alternative gene names</a></span></li><li><span><a href=\"#Selecting-ordered-locus-names\" data-toc-modified-id=\"Selecting-ordered-locus-names-4.0.4\">Selecting ordered locus names</a></span></li><li><span><a href=\"#Selecting-ORF-names\" data-toc-modified-id=\"Selecting-ORF-names-4.0.5\">Selecting ORF names</a></span></li></ul></li></ul></li><li><span><a href=\"#Replicons\" data-toc-modified-id=\"Replicons-5\">Replicons</a></span><ul class=\"toc-item\"><li><ul class=\"toc-item\"><li><span><a href=\"#Organelles-and-Plasmids\" data-toc-modified-id=\"Organelles-and-Plasmids-5.0.1\">Organelles and Plasmids</a></span></li></ul></li></ul></li></ul></div>"
   ]
  },
  {
   "cell_type": "markdown",
   "metadata": {},
   "source": [
    "# Question4Jerven\n",
    "*If a gene is located in an organelle other than the nucleus, or/and on a plasmid rather than a chromosome, the gene location is stored in encodedIn properties.*  \n",
    "\n",
    "\n",
    "A gene is located on a replicon, either a chromsosome or a plasmid.  \n",
    "\n",
    "A replicon is located in the nucleus, the mitochondria or the cytosol (prokaryote).  \n",
    "\n",
    "**I don't understand our data model ?**\n",
    "- the chromosome is encoded with the proteome  \n",
    "- organelle and plasmid are represented by encodedIn  "
   ]
  },
  {
   "cell_type": "markdown",
   "metadata": {},
   "source": [
    "# Replicon and genes\n",
    "\n",
    "This notebook aims to show you basic informations on **genes** that encode the protein and their replicon (chromosome, plasmid, etc).   "
   ]
  },
  {
   "cell_type": "markdown",
   "metadata": {},
   "source": [
    "# Required Python libraries\n",
    "\n",
    "If you are not familiar with **RDFlib** and **SPARQLWrapper** libraries, please read `00_introduction.ipynb` first. "
   ]
  },
  {
   "cell_type": "code",
   "execution_count": 1,
   "metadata": {},
   "outputs": [],
   "source": [
    "from rdflib import *\n",
    "from SPARQLWrapper import SPARQLWrapper, JSON"
   ]
  },
  {
   "cell_type": "markdown",
   "metadata": {},
   "source": [
    "# Gene Names\n",
    "\n",
    "This notebook aims to show you basic informations on **genes** that encode the protein.   \n",
    "\n",
    "The name(s) of the gene(s) that encode the protein by a separate `encodedBy` properties.\n",
    "\n",
    "There are four categories of gene names.  \n",
    "- The primary gene name is represented with a `skos:prefLabel` property\n",
    "- The synonyms with `skos:altLabel` property. \n",
    "- Ordered locus names (OLN) with `locusName` property.\n",
    "- ORF names with `orfName` property.\n",
    "\n",
    "The resources representing a gene are members of the `up:Gene` class."
   ]
  },
  {
   "cell_type": "code",
   "execution_count": 2,
   "metadata": {},
   "outputs": [],
   "source": [
    "entry=Graph().parse(format='ttl',\n",
    "                     data=\"\"\"\n",
    "base <http://purl.uniprot.org/uniprot/>  \n",
    "prefix up: <http://purl.uniprot.org/core/>\n",
    "prefix rdf: <http://www.w3.org/1999/02/22-rdf-syntax-ns#> \n",
    "prefix isoform:<http://purl.uniprot.org/isoforms/>\n",
    "prefix skos: <http://www.w3.org/2004/02/skos/core#>\n",
    "\n",
    "<Q0JNS6>\n",
    "  a up:Protein ;\n",
    "  up:encodedBy\n",
    "    <Q0JNS6#51304A4E53360019> ,\n",
    "    <Q0JNS6#51304A4E5336001A> ,\n",
    "    <Q0JNS6#51304A4E5336001B> .\n",
    "\n",
    "<Q0JNS6#51304A4E53360019>\n",
    "  rdf:type up:Gene ;\n",
    "  skos:prefLabel \"CAM1-1\" ;\n",
    "  skos:altLabel \"CAM1\" ;\n",
    "  up:locusName \"Os03g0319300\" ,\n",
    "    \"LOC_Os03g20370\" ;\n",
    "  up:orfName \"OsJ_010214\" .\n",
    "\n",
    "<Q0JNS6#51304A4E5336001A>\n",
    "  rdf:type up:Gene ;\n",
    "  skos:prefLabel \"CAM1-2\" ;\n",
    "  skos:altLabel \"CAM\" ;\n",
    "  up:locusName \"Os07g0687200\" ,\n",
    "    \"LOC_Os07g48780\" ;\n",
    "  up:orfName \"OJ1150_E04.120-1\" ,\n",
    "    \"OJ1200_C08.124-1\" ,\n",
    "    \"OsJ_024630\" .\n",
    "\n",
    "<Q0JNS6#51304A4E5336001B>\n",
    "  rdf:type up:Gene ;\n",
    "  skos:prefLabel \"CAM1-3\" ;\n",
    "  up:locusName \"Os01g0267900\" ,\n",
    "    \"LOC_Os01g16240\" ;\n",
    "  up:orfName \"OsJ_001186\" ,\n",
    "    \"P0011D01.22\" .\"\"\")\n"
   ]
  },
  {
   "cell_type": "markdown",
   "metadata": {},
   "source": [
    "### Selecting encoding genes"
   ]
  },
  {
   "cell_type": "code",
   "execution_count": 3,
   "metadata": {},
   "outputs": [
    {
     "name": "stdout",
     "output_type": "stream",
     "text": [
      "http://purl.uniprot.org/uniprot/Q0JNS6 is encoded by http://purl.uniprot.org/uniprot/Q0JNS6#51304A4E5336001B\n",
      "http://purl.uniprot.org/uniprot/Q0JNS6 is encoded by http://purl.uniprot.org/uniprot/Q0JNS6#51304A4E53360019\n",
      "http://purl.uniprot.org/uniprot/Q0JNS6 is encoded by http://purl.uniprot.org/uniprot/Q0JNS6#51304A4E5336001A\n"
     ]
    }
   ],
   "source": [
    "qres=entry.query(\"\"\"\n",
    "PREFIX up: <http://purl.uniprot.org/core/> \n",
    "PREFIX uniprotkb: <http://purl.uniprot.org/uniprot/>\n",
    "PREFIX skos: <http://www.w3.org/2004/02/skos/core#>\n",
    "\n",
    "SELECT ?protein\n",
    "       ?gene \n",
    "WHERE {\n",
    "  ?protein a up:Protein ;\n",
    "           up:encodedBy ?gene .\n",
    "}\"\"\")\n",
    "\n",
    "for row in qres:\n",
    "    print(\"%s is encoded by %s\" % row)"
   ]
  },
  {
   "cell_type": "markdown",
   "metadata": {},
   "source": [
    "### Selecting the recommended gene names"
   ]
  },
  {
   "cell_type": "code",
   "execution_count": 4,
   "metadata": {},
   "outputs": [
    {
     "name": "stdout",
     "output_type": "stream",
     "text": [
      "http://purl.uniprot.org/uniprot/Q0JNS6#51304A4E5336001B is called CAM1-3\n",
      "http://purl.uniprot.org/uniprot/Q0JNS6#51304A4E53360019 is called CAM1-1\n",
      "http://purl.uniprot.org/uniprot/Q0JNS6#51304A4E5336001A is called CAM1-2\n"
     ]
    }
   ],
   "source": [
    "qres=entry.query(\"\"\"\n",
    "PREFIX up: <http://purl.uniprot.org/core/> \n",
    "PREFIX uniprotkb: <http://purl.uniprot.org/uniprot/>\n",
    "PREFIX skos: <http://www.w3.org/2004/02/skos/core#>\n",
    "\n",
    "SELECT ?gene \n",
    "       ?recommendedGeneName\n",
    "WHERE {\n",
    "  ?protein a up:Protein ;\n",
    "           up:encodedBy ?gene .\n",
    "  ?gene skos:prefLabel ?recommendedGeneName .\n",
    "}\"\"\")\n",
    "\n",
    "for row in qres:\n",
    "    print(\"%s is called %s\" % row)"
   ]
  },
  {
   "cell_type": "markdown",
   "metadata": {},
   "source": [
    "### Selecting alternative gene names"
   ]
  },
  {
   "cell_type": "code",
   "execution_count": 5,
   "metadata": {},
   "outputs": [
    {
     "name": "stdout",
     "output_type": "stream",
     "text": [
      "http://purl.uniprot.org/uniprot/Q0JNS6#51304A4E53360019 is also known as CAM1\n",
      "http://purl.uniprot.org/uniprot/Q0JNS6#51304A4E5336001A is also known as CAM\n"
     ]
    }
   ],
   "source": [
    "qres=entry.query(\"\"\"\n",
    "PREFIX up: <http://purl.uniprot.org/core/> \n",
    "PREFIX uniprotkb: <http://purl.uniprot.org/uniprot/>\n",
    "PREFIX skos: <http://www.w3.org/2004/02/skos/core#>\n",
    "\n",
    "SELECT ?gene \n",
    "       ?altGeneName\n",
    "WHERE {\n",
    "  ?protein a up:Protein ;\n",
    "           up:encodedBy ?gene .\n",
    "  ?gene skos:altLabel ?altGeneName .\n",
    "}\"\"\")\n",
    "\n",
    "for row in qres:\n",
    "    print(\"%s is also known as %s\" % row)"
   ]
  },
  {
   "cell_type": "markdown",
   "metadata": {},
   "source": [
    "### Selecting ordered locus names"
   ]
  },
  {
   "cell_type": "code",
   "execution_count": 6,
   "metadata": {},
   "outputs": [
    {
     "name": "stdout",
     "output_type": "stream",
     "text": [
      "http://purl.uniprot.org/uniprot/Q0JNS6#51304A4E5336001B has a ordered locus name Os01g0267900\n",
      "http://purl.uniprot.org/uniprot/Q0JNS6#51304A4E5336001B has a ordered locus name LOC_Os01g16240\n",
      "http://purl.uniprot.org/uniprot/Q0JNS6#51304A4E53360019 has a ordered locus name Os03g0319300\n",
      "http://purl.uniprot.org/uniprot/Q0JNS6#51304A4E53360019 has a ordered locus name LOC_Os03g20370\n",
      "http://purl.uniprot.org/uniprot/Q0JNS6#51304A4E5336001A has a ordered locus name LOC_Os07g48780\n",
      "http://purl.uniprot.org/uniprot/Q0JNS6#51304A4E5336001A has a ordered locus name Os07g0687200\n"
     ]
    }
   ],
   "source": [
    "qres=entry.query(\"\"\"\n",
    "PREFIX up: <http://purl.uniprot.org/core/> \n",
    "PREFIX uniprotkb: <http://purl.uniprot.org/uniprot/>\n",
    "PREFIX skos: <http://www.w3.org/2004/02/skos/core#>\n",
    "\n",
    "SELECT ?gene \n",
    "       ?oln\n",
    "WHERE {\n",
    "  ?protein a up:Protein ;\n",
    "           up:encodedBy ?gene .\n",
    "  ?gene up:locusName ?oln .\n",
    "}\"\"\")\n",
    "\n",
    "for row in qres:\n",
    "    print(\"%s has a ordered locus name %s\" % row)"
   ]
  },
  {
   "cell_type": "markdown",
   "metadata": {},
   "source": [
    "### Selecting ORF names"
   ]
  },
  {
   "cell_type": "code",
   "execution_count": 7,
   "metadata": {},
   "outputs": [
    {
     "name": "stdout",
     "output_type": "stream",
     "text": [
      "http://purl.uniprot.org/uniprot/Q0JNS6#51304A4E5336001B has a open reading frame name OsJ_001186\n",
      "http://purl.uniprot.org/uniprot/Q0JNS6#51304A4E5336001B has a open reading frame name P0011D01.22\n",
      "http://purl.uniprot.org/uniprot/Q0JNS6#51304A4E53360019 has a open reading frame name OsJ_010214\n",
      "http://purl.uniprot.org/uniprot/Q0JNS6#51304A4E5336001A has a open reading frame name OJ1200_C08.124-1\n",
      "http://purl.uniprot.org/uniprot/Q0JNS6#51304A4E5336001A has a open reading frame name OsJ_024630\n",
      "http://purl.uniprot.org/uniprot/Q0JNS6#51304A4E5336001A has a open reading frame name OJ1150_E04.120-1\n"
     ]
    }
   ],
   "source": [
    "qres=entry.query(\"\"\"\n",
    "PREFIX up: <http://purl.uniprot.org/core/> \n",
    "PREFIX uniprotkb: <http://purl.uniprot.org/uniprot/>\n",
    "PREFIX skos: <http://www.w3.org/2004/02/skos/core#>\n",
    "\n",
    "SELECT ?gene \n",
    "       ?orfName\n",
    "WHERE {\n",
    "  ?protein a up:Protein ;\n",
    "           up:encodedBy ?gene .\n",
    "  ?gene up:orfName ?orfName .\n",
    "}\"\"\")\n",
    "\n",
    "for row in qres:\n",
    "    print(\"%s has a open reading frame name %s\" % row)"
   ]
  },
  {
   "cell_type": "markdown",
   "metadata": {},
   "source": [
    "# Replicons"
   ]
  },
  {
   "cell_type": "code",
   "execution_count": 8,
   "metadata": {},
   "outputs": [],
   "source": [
    "entry=Graph().parse(format='ttl',\n",
    "                     data=\"\"\"\n",
    "base <http://purl.uniprot.org/uniprot/> \n",
    "prefix annotation: <http://purl.uniprot.org/annotation/> \n",
    "prefix citation: <http://purl.uniprot.org/citations/> \n",
    "prefix dcterms: <http://purl.org/dc/terms/> \n",
    "prefix disease: <http://purl.uniprot.org/diseases/> \n",
    "prefix ECO: <http://purl.obolibrary.org/obo/ECO_> \n",
    "prefix enzyme: <http://purl.uniprot.org/enzyme/> \n",
    "prefix faldo: <http://biohackathon.org/resource/faldo#> \n",
    "prefix foaf: <http://xmlns.com/foaf/0.1/> \n",
    "prefix go: <http://purl.obolibrary.org/obo/GO_> \n",
    "prefix isoform: <http://purl.uniprot.org/isoforms/> \n",
    "prefix keyword: <http://purl.uniprot.org/keywords/> \n",
    "prefix location: <http://purl.uniprot.org/locations/> \n",
    "prefix owl: <http://www.w3.org/2002/07/owl#> \n",
    "prefix position: <http://purl.uniprot.org/position/> \n",
    "prefix pubmed: <http://purl.uniprot.org/pubmed/> \n",
    "prefix range: <http://purl.uniprot.org/range/> \n",
    "prefix rdf: <http://www.w3.org/1999/02/22-rdf-syntax-ns#> \n",
    "prefix rdfs: <http://www.w3.org/2000/01/rdf-schema#> \n",
    "prefix skos: <http://www.w3.org/2004/02/skos/core#> \n",
    "prefix taxon: <http://purl.uniprot.org/taxonomy/> \n",
    "prefix tissue: <http://purl.uniprot.org/tissues/> \n",
    "prefix up: <http://purl.uniprot.org/core/> \n",
    "prefix xsd: <http://www.w3.org/2001/XMLSchema#> \n",
    "\n",
    "<Q71RH2> rdf:type up:Protein ;\n",
    "  up:reviewed true ;\n",
    "  up:created \"2005-04-12\"^^xsd:date ;\n",
    "  up:modified \"2021-04-07\"^^xsd:date ;\n",
    "  up:version 130 ;\n",
    "  up:mnemonic \"TLC3B_HUMAN\" .\n",
    "\n",
    "\n",
    "<Q71RH2> up:proteome <http://purl.uniprot.org/proteomes/UP000005640#Chromosome%2016> .\"\"\")"
   ]
  },
  {
   "cell_type": "code",
   "execution_count": 9,
   "metadata": {},
   "outputs": [
    {
     "name": "stdout",
     "output_type": "stream",
     "text": [
      "The gene coding for http://purl.uniprot.org/uniprot/Q71RH2 is located on Chromosome%2016\n"
     ]
    }
   ],
   "source": [
    "qres=entry.query(\"\"\"\n",
    "PREFIX up: <http://purl.uniprot.org/core/> \n",
    "PREFIX uniprotkb: <http://purl.uniprot.org/uniprot/>\n",
    "PREFIX skos: <http://www.w3.org/2004/02/skos/core#>\n",
    "\n",
    "SELECT ?protein\n",
    "       ?replicon \n",
    "WHERE {\n",
    "  ?protein a up:Protein ;\n",
    "           up:proteome ?proteomeData .\n",
    "  BIND( strafter( str(?proteomeData), \"#\" ) as ?replicon )\n",
    "}\"\"\")\n",
    "\n",
    "for row in qres:\n",
    "    print(\"The gene coding for %s is located on %s\" % row)"
   ]
  },
  {
   "cell_type": "code",
   "execution_count": 10,
   "metadata": {},
   "outputs": [
    {
     "name": "stdout",
     "output_type": "stream",
     "text": [
      "http://purl.uniprot.org/proteomes/UP000005640#Chromosome%2011\n",
      "http://purl.uniprot.org/proteomes/UP000005640#Chromosome%202\n",
      "http://purl.uniprot.org/proteomes/UP000005640#Chromosome%203\n"
     ]
    }
   ],
   "source": [
    "query = \"\"\"\n",
    "PREFIX up:<http://purl.uniprot.org/core/>\n",
    "PREFIX keywords:<http://purl.uniprot.org/keywords/>\n",
    "PREFIX taxon:<http://purl.uniprot.org/taxonomy/>\n",
    "PREFIX skos:<http://www.w3.org/2004/02/skos/core#> \n",
    "PREFIX proteome:<http://purl.uniprot.org/proteomes/>\n",
    "\n",
    "SELECT distinct ?proteomeData\n",
    "WHERE {\n",
    "  # reviewed entries (UniProtKB/Swiss-Prot)\n",
    "  ?protein up:reviewed true . \n",
    "  # restricted to Human taxid\n",
    "  ?uniprot up:organism taxon:9606 . \n",
    "  # reference proteome\n",
    "  ?uniprot up:classifiedWith keywords:1185 .\n",
    "  ?uniprot up:proteome ?proteomeData .\n",
    "  BIND( strbefore( str(?proteomeData), \"#\" ) as ?proteome )\n",
    "  BIND( strafter( str(?proteomeData), \"#\" ) as ?replicon )\n",
    "}\n",
    "LIMIT 3\n",
    "\"\"\"\n",
    "\n",
    "# Set the SPARQL endpoint (UniProt)\n",
    "sparql = SPARQLWrapper(\"https://sparql.uniprot.org/sparql\")\n",
    "\n",
    "# Define the query\n",
    "sparql.setQuery(query)\n",
    "\n",
    "# Set the output format as JSON\n",
    "sparql.setReturnFormat(JSON)\n",
    "\n",
    "# Run the SPARQL query and convert to the defined format\n",
    "results = sparql.query().convert()\n",
    "\n",
    "# Print the query result\n",
    "for result in results[\"results\"][\"bindings\"]:\n",
    "    print(result[\"proteomeData\"][\"value\"])"
   ]
  },
  {
   "cell_type": "markdown",
   "metadata": {},
   "source": [
    "### Organelles and Plasmids\n",
    "\n",
    "If a gene is located in an organelle other than the nucleus, or/and on a plasmid rather than a chromosome, the gene location is stored in encodedIn properties. Note that if a plasmid has several names, they are listed as multiple `rdfs:label` properties."
   ]
  },
  {
   "cell_type": "code",
   "execution_count": 16,
   "metadata": {},
   "outputs": [
    {
     "name": "stdout",
     "output_type": "stream",
     "text": [
      "(rdflib.term.URIRef('http://purl.uniprot.org/uniprot/Q01529'), rdflib.term.URIRef('http://purl.uniprot.org/uniprot/Q01529#SIP29DF58'), rdflib.term.Literal('pAL2-1'))\n",
      "(rdflib.term.URIRef('http://purl.uniprot.org/uniprot/Q01529'), rdflib.term.URIRef('http://purl.uniprot.org/core/Mitochondrion'), None)\n"
     ]
    }
   ],
   "source": [
    "entry2=Graph().parse(format='ttl',\n",
    "                     data=\"\"\"\n",
    "base <http://purl.uniprot.org/uniprot/>  \n",
    "prefix up: <http://purl.uniprot.org/core/>\n",
    "prefix rdf: <http://www.w3.org/1999/02/22-rdf-syntax-ns#> \n",
    "prefix isoform:<http://purl.uniprot.org/isoforms/>\n",
    "prefix skos: <http://www.w3.org/2004/02/skos/core#>\n",
    "prefix rdfs: <http://www.w3.org/2000/01/rdf-schema#>\n",
    "\n",
    "<Q01529>\n",
    "  a up:Protein ;\n",
    "  up:encodedIn up:Mitochondrion ,\n",
    "               <Q01529#SIP29DF58> . \n",
    "\n",
    "<Q01529#SIP29DF58>\n",
    "  rdf:type up:Plasmid ;\n",
    "  rdfs:label \"pAL2-1\" .\n",
    "  \"\"\")\n",
    "\n",
    "\n",
    "qres=entry2.query(\"\"\"\n",
    "PREFIX up: <http://purl.uniprot.org/core/> \n",
    "PREFIX uniprotkb: <http://purl.uniprot.org/uniprot/>\n",
    "PREFIX skos: <http://www.w3.org/2004/02/skos/core#>\n",
    "\n",
    "SELECT \n",
    "    ?protein \n",
    "    ?plasmidOrOrganelle\n",
    "    ?label\n",
    "WHERE {\n",
    "    ?protein a up:Protein ;\n",
    "      up:encodedIn ?plasmidOrOrganelle .\n",
    "    OPTIONAL {\n",
    "        ?plasmidOrOrganelle rdfs:label ?label .\n",
    "    }\n",
    "}\"\"\")\n",
    "\n",
    "for row in qres:\n",
    "    #print(\"%s is encodedIn a '%s'\" % row)\n",
    "    print(row)"
   ]
  },
  {
   "cell_type": "markdown",
   "metadata": {},
   "source": [
    "Sometimes it is known that a gene is located on a plasmid, but the name of the plasmid is unknown. The example below shows how this is represented."
   ]
  },
  {
   "cell_type": "code",
   "execution_count": 13,
   "metadata": {},
   "outputs": [
    {
     "name": "stdout",
     "output_type": "stream",
     "text": [
      "http://purl.uniprot.org/uniprot/Q7BS32 is encodedIn a 'http://purl.uniprot.org/core/Plasmid'\n"
     ]
    }
   ],
   "source": [
    "entry3=Graph().parse(format='ttl',\n",
    "                     data=\"\"\"\n",
    "base <http://purl.uniprot.org/uniprot/>  \n",
    "prefix up: <http://purl.uniprot.org/core/>\n",
    "prefix rdf: <http://www.w3.org/1999/02/22-rdf-syntax-ns#> \n",
    "prefix isoform:<http://purl.uniprot.org/isoforms/>\n",
    "prefix skos: <http://www.w3.org/2004/02/skos/core#>\n",
    "<Q7BS32>\n",
    "  a up:Protein ;\n",
    "  up:encodedIn \n",
    "    <Q7BS32#51374253333200E> .\n",
    "\n",
    "<Q7BS32#51374253333200E>\n",
    "  rdf:type up:Plasmid .\"\"\")\n",
    "\n",
    "qres=entry3.query(\"\"\"\n",
    "PREFIX up: <http://purl.uniprot.org/core/> \n",
    "PREFIX uniprotkb: <http://purl.uniprot.org/uniprot/>\n",
    "PREFIX skos: <http://www.w3.org/2004/02/skos/core#>\n",
    "\n",
    "SELECT \n",
    "    ?protein \n",
    "    ?type\n",
    "WHERE {\n",
    "    ?protein a up:Protein ;\n",
    "      up:encodedIn ?plasmidOrOrganelle .\n",
    "    OPTIONAL {\n",
    "        ?plasmidOrOrganelle a ?type .\n",
    "    }\n",
    "}\"\"\")\n",
    "\n",
    "for row in qres:\n",
    "    print(\"%s is encodedIn a '%s'\" % row)"
   ]
  },
  {
   "cell_type": "code",
   "execution_count": null,
   "metadata": {},
   "outputs": [],
   "source": []
  }
 ],
 "metadata": {
  "hide_input": false,
  "kernelspec": {
   "display_name": "Python 3 (system-wide)",
   "language": "python",
   "name": "python3"
  },
  "language_info": {
   "codemirror_mode": {
    "name": "ipython",
    "version": 3
   },
   "file_extension": ".py",
   "mimetype": "text/x-python",
   "name": "python",
   "nbconvert_exporter": "python",
   "pygments_lexer": "ipython3",
   "version": "3.8.5"
  },
  "toc": {
   "base_numbering": 1,
   "nav_menu": {},
   "number_sections": false,
   "sideBar": true,
   "skip_h1_title": false,
   "title_cell": "Table of Contents",
   "title_sidebar": "Contents",
   "toc_cell": true,
   "toc_position": {},
   "toc_section_display": true,
   "toc_window_display": false
  }
 },
 "nbformat": 4,
 "nbformat_minor": 4
}
